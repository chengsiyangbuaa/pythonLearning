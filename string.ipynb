{
 "cells": [
  {
   "cell_type": "code",
   "execution_count": 2,
   "metadata": {},
   "outputs": [
    {
     "name": "stdout",
     "output_type": "stream",
     "text": [
      "The 7.7777777 make the damage 4396!\n"
     ]
    }
   ],
   "source": [
    "damage = 4396\n",
    "name = 7.7777777\n",
    "sText = \"The {n} make the damage {d}!\".format(n = name,d = damage)\n",
    "print(sText)"
   ]
  },
  {
   "cell_type": "code",
   "execution_count": 4,
   "metadata": {},
   "outputs": [
    {
     "name": "stdout",
     "output_type": "stream",
     "text": [
      "The 4396 make the damage 7.78!\n"
     ]
    }
   ],
   "source": [
    "damage = 4396\n",
    "name = 7.7777777\n",
    "sText = \"The %d make the damage %.2f!\"% (damage,name)\n",
    "print(sText)"
   ]
  },
  {
   "cell_type": "code",
   "execution_count": 6,
   "metadata": {},
   "outputs": [
    {
     "name": "stdout",
     "output_type": "stream",
     "text": [
      "The 7.7777777 make the damage 4396.00!\n"
     ]
    }
   ],
   "source": [
    "damage = 4396\n",
    "name = 7.7777777\n",
    "sText = f\"The {name} make the damage {damage:.2f}!\"\n",
    "print(sText)"
   ]
  },
  {
   "cell_type": "code",
   "execution_count": 9,
   "metadata": {},
   "outputs": [
    {
     "name": "stdout",
     "output_type": "stream",
     "text": [
      "pi = 3.141593e+00.\n",
      "pi = 3.14.\n",
      "pi = 314.2%.\n"
     ]
    }
   ],
   "source": [
    "sText = \"pi = {pi:e}.\".format(pi=3.1415926)\n",
    "print(sText)\n",
    "sText = \"pi = {pi:.2f}.\".format(pi=3.1415926)\n",
    "print(sText)\n",
    "sText = \"pi = {pi:.1%}.\".format(pi=3.1415926)\n",
    "print(sText)"
   ]
  },
  {
   "cell_type": "code",
   "execution_count": 1,
   "metadata": {},
   "outputs": [],
   "source": [
    "r = list(range(\t0x1F600,0x1F660))\n",
    "with open(\"emoji.txt\",\"w\",encoding = \"utf-8\") as f:\n",
    "    for idx , x in enumerate(r):\n",
    "        if(idx % 10 == 0):\n",
    "            f.write(\"\\n\")\n",
    "        f.write(\"{num:c}\".format(num=x))"
   ]
  },
  {
   "cell_type": "code",
   "execution_count": 16,
   "metadata": {},
   "outputs": [
    {
     "name": "stdout",
     "output_type": "stream",
     "text": [
      "pi =       3.14\n",
      "pi =                 3.14\n"
     ]
    }
   ],
   "source": [
    "sText = \"pi = {pi:10.2f}\".format(pi=3.1415926)\n",
    "print(sText)\n",
    "sText = \"pi = {pi:20.2f}\".format(pi=3.1415926)\n",
    "print(sText)"
   ]
  },
  {
   "cell_type": "code",
   "execution_count": 19,
   "metadata": {},
   "outputs": [
    {
     "name": "stdout",
     "output_type": "stream",
     "text": [
      "pi =                 4396\n",
      "pow(2,64) = 18,446,744,073,709,551,616\n"
     ]
    }
   ],
   "source": [
    "sText = \"pi = {pi:20}\".format(pi=4396)\n",
    "print(sText)\n",
    "sText = \"pow(2,64) = {:,}\".format(2**64)\n",
    "print(sText)"
   ]
  },
  {
   "cell_type": "code",
   "execution_count": 4,
   "metadata": {},
   "outputs": [
    {
     "name": "stdout",
     "output_type": "stream",
     "text": [
      "pi = 0000003.14, 3.14      ,    3.14   ,       3.14,\n",
      "pi =      +3.19,+     3.18\n"
     ]
    }
   ],
   "source": [
    "print(\"pi = {pi:010.2f}, {pi:<10.2f}, {pi:^10.2f}, {pi:>10.2f},\".format(pi = 3.1415926))\n",
    "print(\"pi = {0:+10.2f},{1:=+10.2f}\".format(3.19,3.18))"
   ]
  },
  {
   "cell_type": "code",
   "execution_count": 23,
   "metadata": {},
   "outputs": [
    {
     "name": "stdout",
     "output_type": "stream",
     "text": [
      "'                  center                  '\n"
     ]
    }
   ],
   "source": [
    "print(\"'\",\"center\".center(40),\"'\",)"
   ]
  },
  {
   "cell_type": "code",
   "execution_count": 24,
   "metadata": {},
   "outputs": [
    {
     "name": "stdout",
     "output_type": "stream",
     "text": [
      "*****************center*****************\n"
     ]
    }
   ],
   "source": [
    "print(\"center\".center(40,\"*\"))"
   ]
  },
  {
   "cell_type": "code",
   "execution_count": 26,
   "metadata": {},
   "outputs": [
    {
     "name": "stdout",
     "output_type": "stream",
     "text": [
      "                 center                 \n"
     ]
    }
   ],
   "source": [
    "print(\"center\".center(40,\" \"))"
   ]
  },
  {
   "cell_type": "code",
   "execution_count": 28,
   "metadata": {},
   "outputs": [
    {
     "name": "stdout",
     "output_type": "stream",
     "text": [
      "                                  center\n"
     ]
    }
   ],
   "source": [
    "print(\"center\".rjust(40,\" \"))"
   ]
  },
  {
   "cell_type": "code",
   "execution_count": 30,
   "metadata": {},
   "outputs": [
    {
     "name": "stdout",
     "output_type": "stream",
     "text": [
      "center                                  \n"
     ]
    }
   ],
   "source": [
    "print(\"center\".ljust(40,\" \"))"
   ]
  },
  {
   "cell_type": "code",
   "execution_count": 34,
   "metadata": {},
   "outputs": [
    {
     "name": "stdout",
     "output_type": "stream",
     "text": [
      "14\n"
     ]
    }
   ],
   "source": [
    "s = \"xiao qie zi shang an 2023\"\n",
    "print(s.find(\"an\",0,len(s)))"
   ]
  },
  {
   "cell_type": "code",
   "execution_count": 36,
   "metadata": {},
   "outputs": [
    {
     "name": "stdout",
     "output_type": "stream",
     "text": [
      "-1\n"
     ]
    }
   ],
   "source": [
    "s = \"xiao qie zi shang an 2023\"\n",
    "print(s.find(\"aan\",0,len(s)))"
   ]
  },
  {
   "cell_type": "code",
   "execution_count": 38,
   "metadata": {},
   "outputs": [
    {
     "name": "stdout",
     "output_type": "stream",
     "text": [
      "/home/mingxuanshen/git/pythonLearning\n",
      "c: \\home\\mingxuanshen\\git\\pythonLearning\n"
     ]
    }
   ],
   "source": [
    "dirs = [\"\",\"home\",\"mingxuanshen\",\"git\",\"pythonLearning\"]\n",
    "print(\"/\".join(dirs))\n",
    "print(\"c:\",\"\\\\\".join(dirs))"
   ]
  },
  {
   "cell_type": "code",
   "execution_count": 40,
   "metadata": {},
   "outputs": [
    {
     "name": "stdout",
     "output_type": "stream",
     "text": [
      "xiao qie zi shang an 2023\n",
      "617 dan shen 2023\n"
     ]
    }
   ],
   "source": [
    "s = \"xiao qie zi shang an 2023\"\n",
    "s1 = s.replace(\"xiao qie zi\",\"617\")\n",
    "s1 = s1.replace(\"shang an\",\"dan shen\")\n",
    "print(s)\n",
    "print(s1)"
   ]
  },
  {
   "cell_type": "code",
   "execution_count": 42,
   "metadata": {},
   "outputs": [
    {
     "name": "stdout",
     "output_type": "stream",
     "text": [
      "['xiao', 'qie', 'zi', 'shang', 'an', '2023']\n"
     ]
    }
   ],
   "source": [
    "s = \"xiao qie zi shang an 2023\"\n",
    "print(s.split(\" \"))"
   ]
  },
  {
   "cell_type": "code",
   "execution_count": 45,
   "metadata": {},
   "outputs": [
    {
     "name": "stdout",
     "output_type": "stream",
     "text": [
      "xiao+qie+zi+shang+an+2023\n",
      "['xiao', 'qie', 'zi', 'shang', 'an', '2023']\n"
     ]
    }
   ],
   "source": [
    "s = \"xiao qie zi shang an 2023\"\n",
    "s = s.replace(\" \",\"+\")\n",
    "print(s)\n",
    "print(s.split(\"+\"))"
   ]
  }
 ],
 "metadata": {
  "interpreter": {
   "hash": "063997466fb8d14a66bdbd4ad5df2a78771035d795576952896bfbd2277157cc"
  },
  "kernelspec": {
   "display_name": "Python 3.8.10 64-bit (windows store)",
   "language": "python",
   "name": "python3"
  },
  "language_info": {
   "codemirror_mode": {
    "name": "ipython",
    "version": 3
   },
   "file_extension": ".py",
   "mimetype": "text/x-python",
   "name": "python",
   "nbconvert_exporter": "python",
   "pygments_lexer": "ipython3",
   "version": "3.8.10"
  },
  "orig_nbformat": 4
 },
 "nbformat": 4,
 "nbformat_minor": 2
}
