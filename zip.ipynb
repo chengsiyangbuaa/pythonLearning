{
 "cells": [
  {
   "cell_type": "code",
   "execution_count": 1,
   "metadata": {},
   "outputs": [],
   "source": [
    "#zip缝合"
   ]
  },
  {
   "cell_type": "code",
   "execution_count": 9,
   "metadata": {},
   "outputs": [
    {
     "name": "stdout",
     "output_type": "stream",
     "text": [
      "<zip object at 0x000002A412929BC0> <class 'zip'>\n",
      "[('xiao qie zi', 99), ('617', 59), ('681', 100)]\n"
     ]
    }
   ],
   "source": [
    "names = [\"xiao qie zi\",\"617\",\"681\"]\n",
    "scores = [99,59,100]\n",
    "zipped = zip(names,scores)\n",
    "print(zipped,type(zipped))\n",
    "print(list(zipped))"
   ]
  },
  {
   "cell_type": "code",
   "execution_count": 10,
   "metadata": {},
   "outputs": [
    {
     "name": "stdout",
     "output_type": "stream",
     "text": [
      "xiao qie zi 's score is  99\n",
      "617 's score is  59\n",
      "681 's score is  100\n"
     ]
    }
   ],
   "source": [
    "names = [\"xiao qie zi\",\"617\",\"681\"]\n",
    "scores = [99,59,100]\n",
    "for name,score in zip(names,scores):\n",
    "    print(name,\"'s score is \",score)"
   ]
  },
  {
   "cell_type": "code",
   "execution_count": null,
   "metadata": {},
   "outputs": [],
   "source": []
  }
 ],
 "metadata": {
  "interpreter": {
   "hash": "063997466fb8d14a66bdbd4ad5df2a78771035d795576952896bfbd2277157cc"
  },
  "kernelspec": {
   "display_name": "Python 3.8.10 64-bit (windows store)",
   "language": "python",
   "name": "python3"
  },
  "language_info": {
   "name": "python",
   "version": "3.8.10"
  },
  "orig_nbformat": 4
 },
 "nbformat": 4,
 "nbformat_minor": 2
}
