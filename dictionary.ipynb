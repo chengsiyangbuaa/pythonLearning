{
 "cells": [
  {
   "cell_type": "code",
   "execution_count": 1,
   "metadata": {},
   "outputs": [],
   "source": [
    "#字典"
   ]
  },
  {
   "cell_type": "code",
   "execution_count": 2,
   "metadata": {},
   "outputs": [
    {
     "name": "stdout",
     "output_type": "stream",
     "text": [
      "<class 'dict'>\n"
     ]
    }
   ],
   "source": [
    "d = {}\n",
    "print(type(d))"
   ]
  },
  {
   "cell_type": "code",
   "execution_count": 4,
   "metadata": {},
   "outputs": [
    {
     "name": "stdout",
     "output_type": "stream",
     "text": [
      "<class 'set'>\n"
     ]
    }
   ],
   "source": [
    "s = {1,}\n",
    "print(type(s))"
   ]
  },
  {
   "cell_type": "code",
   "execution_count": 5,
   "metadata": {},
   "outputs": [
    {
     "name": "stdout",
     "output_type": "stream",
     "text": [
      "{'xiao qie zi': 100, '617': 99, '681': 98} <class 'dict'>\n"
     ]
    }
   ],
   "source": [
    "score_table = {'xiao qie zi':100,\"617\":99,\"681\":98}\n",
    "print(score_table,type(score_table))"
   ]
  },
  {
   "cell_type": "code",
   "execution_count": 6,
   "metadata": {},
   "outputs": [
    {
     "name": "stdout",
     "output_type": "stream",
     "text": [
      "{0: 'xiao qie zi', 1: '617', 2: '681'}\n"
     ]
    }
   ],
   "source": [
    "l = [(0, 'xiao qie zi'), (1, '617'), (2, '681')]\n",
    "d = dict(l)\n",
    "print(d)"
   ]
  },
  {
   "cell_type": "code",
   "execution_count": 7,
   "metadata": {},
   "outputs": [
    {
     "name": "stdout",
     "output_type": "stream",
     "text": [
      "{'name': 'xiao qie zi', 'score': '100', 'age': '4396'} <class 'dict'>\n"
     ]
    }
   ],
   "source": [
    "d = dict(name=\"xiao qie zi\",score=\"100\",age=\"4396\")\n",
    "print(d,type(d))"
   ]
  },
  {
   "cell_type": "code",
   "execution_count": 2,
   "metadata": {},
   "outputs": [
    {
     "name": "stdout",
     "output_type": "stream",
     "text": [
      "{'name': 'xiao qie zi', 'score': '100', 'age': '4396', 'gender': 'male'} <class 'dict'>\n",
      "4\n"
     ]
    }
   ],
   "source": [
    "d = dict(name=\"xiao qie zi\",score=\"100\",age=\"4396\")\n",
    "d[\"gender\"]  = 'male'\n",
    "print(d,type(d))\n",
    "print(len(d))"
   ]
  },
  {
   "cell_type": "code",
   "execution_count": 4,
   "metadata": {},
   "outputs": [
    {
     "name": "stdout",
     "output_type": "stream",
     "text": [
      "{'name': 'xiao qie zi', 'score': '100', 'age': '4396'}\n",
      "1220901574784\n",
      "1220888614720\n"
     ]
    }
   ],
   "source": [
    "d = dict(name=\"xiao qie zi\",score=\"100\",age=\"4396\")\n",
    "d1 = d.copy()\n",
    "print(d1)\n",
    "print(id(d))\n",
    "print(id(d1))"
   ]
  },
  {
   "cell_type": "code",
   "execution_count": 6,
   "metadata": {},
   "outputs": [
    {
     "name": "stdout",
     "output_type": "stream",
     "text": [
      "{'id': 'notknown', 'name': 'notknown', 'age': 'notknown'}\n"
     ]
    }
   ],
   "source": [
    "d = dict.fromkeys(['id','name','age'],'notknown')\n",
    "print(d)"
   ]
  },
  {
   "cell_type": "code",
   "execution_count": 7,
   "metadata": {},
   "outputs": [
    {
     "ename": "KeyError",
     "evalue": "'this'",
     "output_type": "error",
     "traceback": [
      "\u001b[1;31m---------------------------------------------------------------------------\u001b[0m",
      "\u001b[1;31mKeyError\u001b[0m                                  Traceback (most recent call last)",
      "\u001b[1;32m~\\AppData\\Local\\Temp/ipykernel_42648/1839704175.py\u001b[0m in \u001b[0;36m<module>\u001b[1;34m\u001b[0m\n\u001b[0;32m      1\u001b[0m \u001b[0md\u001b[0m \u001b[1;33m=\u001b[0m \u001b[0mdict\u001b[0m\u001b[1;33m.\u001b[0m\u001b[0mfromkeys\u001b[0m\u001b[1;33m(\u001b[0m\u001b[1;33m[\u001b[0m\u001b[1;34m'id'\u001b[0m\u001b[1;33m,\u001b[0m\u001b[1;34m'name'\u001b[0m\u001b[1;33m,\u001b[0m\u001b[1;34m'age'\u001b[0m\u001b[1;33m]\u001b[0m\u001b[1;33m,\u001b[0m\u001b[1;34m'notknown'\u001b[0m\u001b[1;33m)\u001b[0m\u001b[1;33m\u001b[0m\u001b[1;33m\u001b[0m\u001b[0m\n\u001b[1;32m----> 2\u001b[1;33m \u001b[0mprint\u001b[0m\u001b[1;33m(\u001b[0m\u001b[0md\u001b[0m\u001b[1;33m[\u001b[0m\u001b[1;34m'this'\u001b[0m\u001b[1;33m]\u001b[0m\u001b[1;33m)\u001b[0m\u001b[1;33m\u001b[0m\u001b[1;33m\u001b[0m\u001b[0m\n\u001b[0m",
      "\u001b[1;31mKeyError\u001b[0m: 'this'"
     ]
    }
   ],
   "source": [
    "d = dict.fromkeys(['id','name','age'],'notknown')\n",
    "print(d['this'])"
   ]
  },
  {
   "cell_type": "code",
   "execution_count": 9,
   "metadata": {},
   "outputs": [
    {
     "name": "stdout",
     "output_type": "stream",
     "text": [
      "not known\n"
     ]
    }
   ],
   "source": [
    "d = dict.fromkeys(['id','name','age'],'notknown')\n",
    "print(d.get(\"this\",\"not known\"))"
   ]
  },
  {
   "cell_type": "code",
   "execution_count": 10,
   "metadata": {},
   "outputs": [
    {
     "name": "stdout",
     "output_type": "stream",
     "text": [
      "{'id': 10001, 'name': 'notknown', 'age': 'notknown', 'gender': 'male'}\n"
     ]
    }
   ],
   "source": [
    "d = dict.fromkeys(['id','name','age'],'notknown')\n",
    "d2 = {'id':10001,\"gender\":\"male\"}\n",
    "d.update(d2)\n",
    "print(d)"
   ]
  },
  {
   "cell_type": "code",
   "execution_count": 17,
   "metadata": {},
   "outputs": [
    {
     "name": "stdout",
     "output_type": "stream",
     "text": [
      "dict_values(['xiao qie zi', '100', '4396']) <class 'dict_values'>\n",
      "xiao qie zi\n",
      "100\n",
      "4396\n"
     ]
    }
   ],
   "source": [
    "d = dict(name=\"xiao qie zi\",score=\"100\",age=\"4396\")\n",
    "print(d.values(),type(d.values()))\n",
    "for x in d.values():\n",
    "    print(x)"
   ]
  },
  {
   "cell_type": "code",
   "execution_count": 18,
   "metadata": {},
   "outputs": [
    {
     "name": "stdout",
     "output_type": "stream",
     "text": [
      "dict_keys(['name', 'score', 'age']) <class 'dict_keys'>\n",
      "name\n",
      "score\n",
      "age\n"
     ]
    }
   ],
   "source": [
    "d = dict(name=\"xiao qie zi\",score=\"100\",age=\"4396\")\n",
    "print(d.keys(),type(d.keys()))\n",
    "for x in d.keys():\n",
    "    print(x)"
   ]
  },
  {
   "cell_type": "code",
   "execution_count": 19,
   "metadata": {},
   "outputs": [
    {
     "name": "stdout",
     "output_type": "stream",
     "text": [
      "dict_items([('name', 'xiao qie zi'), ('score', '100'), ('age', '4396')]) <class 'dict_items'>\n",
      "('name', 'xiao qie zi')\n",
      "('score', '100')\n",
      "('age', '4396')\n"
     ]
    }
   ],
   "source": [
    "d = dict(name=\"xiao qie zi\",score=\"100\",age=\"4396\")\n",
    "print(d.items(),type(d.items()))\n",
    "for x in d.items():\n",
    "    print(x)"
   ]
  },
  {
   "cell_type": "code",
   "execution_count": 20,
   "metadata": {},
   "outputs": [
    {
     "name": "stdout",
     "output_type": "stream",
     "text": [
      "dict_items([('name', 'xiao qie zi'), ('score', '100'), ('age', '4396')]) <class 'dict_items'>\n",
      "name xiao qie zi\n",
      "score 100\n",
      "age 4396\n"
     ]
    }
   ],
   "source": [
    "d = dict(name=\"xiao qie zi\",score=\"100\",age=\"4396\")\n",
    "print(d.items(),type(d.items()))\n",
    "for key,Value in d.items():\n",
    "    print(key,Value)"
   ]
  },
  {
   "cell_type": "code",
   "execution_count": null,
   "metadata": {},
   "outputs": [],
   "source": []
  }
 ],
 "metadata": {
  "interpreter": {
   "hash": "063997466fb8d14a66bdbd4ad5df2a78771035d795576952896bfbd2277157cc"
  },
  "kernelspec": {
   "display_name": "Python 3.8.10 64-bit (windows store)",
   "language": "python",
   "name": "python3"
  },
  "language_info": {
   "codemirror_mode": {
    "name": "ipython",
    "version": 3
   },
   "file_extension": ".py",
   "mimetype": "text/x-python",
   "name": "python",
   "nbconvert_exporter": "python",
   "pygments_lexer": "ipython3",
   "version": "3.8.10"
  },
  "orig_nbformat": 4
 },
 "nbformat": 4,
 "nbformat_minor": 2
}
