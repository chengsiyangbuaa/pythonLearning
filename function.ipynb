{
 "cells": [
  {
   "cell_type": "code",
   "execution_count": 1,
   "metadata": {},
   "outputs": [],
   "source": [
    "#函数与抽象"
   ]
  },
  {
   "cell_type": "code",
   "execution_count": 3,
   "metadata": {},
   "outputs": [
    {
     "name": "stdout",
     "output_type": "stream",
     "text": [
      "19\n"
     ]
    }
   ],
   "source": [
    "def f(x):\n",
    "    return x*x + 3*x + 1\n",
    "\n",
    "print(f(3))"
   ]
  },
  {
   "cell_type": "code",
   "execution_count": 4,
   "metadata": {},
   "outputs": [
    {
     "name": "stdout",
     "output_type": "stream",
     "text": [
      "add two numbers\n"
     ]
    }
   ],
   "source": [
    "def add(x,y):\n",
    "    \"add two numbers\"\n",
    "    return x+y\n",
    "print(add.__doc__)"
   ]
  },
  {
   "cell_type": "code",
   "execution_count": 13,
   "metadata": {},
   "outputs": [
    {
     "name": "stdout",
     "output_type": "stream",
     "text": [
      "before swap, a=2, b=3,id(a)=140711551571760,id(b)=140711551571792\n",
      "in function: id(x)=140711551571760 , id(y)=140711551571792\n",
      "x,y swap: id(x)=140711551571792 , id(y)=140711551571760\n",
      "after swap, a=2, b=3,c=5,id(a)=140711551571760,id(b)=140711551571792\n"
     ]
    }
   ],
   "source": [
    "a,b = 2,3\n",
    "print(\"before swap, a=%d, b=%d,id(a)=%d,id(b)=%d\"%(a,b,id(a),id(b)))\n",
    "\n",
    "def swap(x,y):\n",
    "    print(\"in function: id(x)=%d , id(y)=%d\"%(id(x),id(y)))\n",
    "    x,y = y,x\n",
    "    s = x + y\n",
    "    print(\"x,y swap: id(x)=%d , id(y)=%d\"%(id(x),id(y)))\n",
    "    return s\n",
    "\n",
    "c = swap(a,b)\n",
    "\n",
    "print(\"after swap, a=%d, b=%d,c=%d,id(a)=%d,id(b)=%d\"%(a,b,c,id(a),id(b)))\n"
   ]
  },
  {
   "cell_type": "code",
   "execution_count": 15,
   "metadata": {},
   "outputs": [
    {
     "name": "stdout",
     "output_type": "stream",
     "text": [
      "before swap, a=1, b=4,id(a)=2999161683520,id(b)=2999153509504\n",
      "in function: id(x)=2999161683520 , id(y)=2999153509504\n",
      "x,y swap: id(x)=2999153509504 , id(y)=2999161683520\n",
      "after swap, a=1, b=4,id(a)=2999161683520,id(b)=2999153509504\n"
     ]
    }
   ],
   "source": [
    "a = [1,2,3]\n",
    "b = [4,5,6]\n",
    "print(\"before swap, a=%d, b=%d,id(a)=%d,id(b)=%d\"%(a[0],b[0],id(a),id(b)))\n",
    "\n",
    "def swap(x,y):\n",
    "    print(\"in function: id(x)=%d , id(y)=%d\"%(id(x),id(y)))\n",
    "    x,y = y,x\n",
    "    print(\"x,y swap: id(x)=%d , id(y)=%d\"%(id(x),id(y)))\n",
    "\n",
    "swap(a,b)\n",
    "\n",
    "print(\"after swap, a=%d, b=%d,id(a)=%d,id(b)=%d\"%(a[0],b[0],id(a),id(b)))"
   ]
  },
  {
   "cell_type": "code",
   "execution_count": 1,
   "metadata": {},
   "outputs": [
    {
     "name": "stdout",
     "output_type": "stream",
     "text": [
      "[0, 0, 0, 1]\n"
     ]
    }
   ],
   "source": [
    "#值传递，引用传递，名字绑定(进阶知识)\n",
    "#什么是值传递？要把实参的值copy一份给形参作为值的，然后形参在函数中的操作就和实参没有关系了\n",
    "#什么是引用传递？传引用是使用形参给实参取一个别名（alias），函数中对形参的操作实际上就是对实参的操作\n",
    "#两个例子\n",
    "a = [0,0,0]\n",
    "def f1(c):\n",
    "    c.append(1)\n",
    "f1(a)\n",
    "print(a)\n",
    "#可见不是值传递，那么是不是引用传递？\n"
   ]
  },
  {
   "cell_type": "code",
   "execution_count": 19,
   "metadata": {},
   "outputs": [
    {
     "name": "stdout",
     "output_type": "stream",
     "text": [
      "[0, 0, 0]\n"
     ]
    }
   ],
   "source": [
    "a = [0,0,0]\n",
    "def f2(c):\n",
    "    c = [1,1,1]\n",
    "print(a)\n",
    "#可见python中的参数传递，既不是值传递，也不是引用传递，而是名字绑定"
   ]
  },
  {
   "cell_type": "code",
   "execution_count": 20,
   "metadata": {},
   "outputs": [
    {
     "name": "stdout",
     "output_type": "stream",
     "text": [
      "3\n"
     ]
    }
   ],
   "source": [
    "#提问，修改形参的修改，会不会影响到实参？\n",
    "a = 3\n",
    "def f3(c):\n",
    "    c = 2\n",
    "f3(a)\n",
    "print(a)"
   ]
  },
  {
   "cell_type": "code",
   "execution_count": 21,
   "metadata": {},
   "outputs": [
    {
     "name": "stdout",
     "output_type": "stream",
     "text": [
      "[0, 0, 0]\n"
     ]
    }
   ],
   "source": [
    "a = [0,0,0]\n",
    "def f3(c):\n",
    "    c = [1,1,1]\n",
    "f3(a)\n",
    "print(a)"
   ]
  },
  {
   "cell_type": "code",
   "execution_count": 22,
   "metadata": {},
   "outputs": [
    {
     "name": "stdout",
     "output_type": "stream",
     "text": [
      "[0, 1, 0]\n"
     ]
    }
   ],
   "source": [
    "a = [0,0,0]\n",
    "def f3(c):\n",
    "    c[1] = 1\n",
    "f3(a)\n",
    "print(a)"
   ]
  },
  {
   "cell_type": "code",
   "execution_count": 24,
   "metadata": {},
   "outputs": [
    {
     "name": "stdout",
     "output_type": "stream",
     "text": [
      "400\n",
      "600\n"
     ]
    }
   ],
   "source": [
    "def f4(number1,number2 = 100):\n",
    "    return number1 + number2\n",
    "\n",
    "print(f4(300))\n",
    "print(f4(300 , 300))"
   ]
  },
  {
   "cell_type": "code",
   "execution_count": 27,
   "metadata": {},
   "outputs": [
    {
     "name": "stdout",
     "output_type": "stream",
     "text": [
      "xiao qie zi 's score is 100\n",
      "xiao qie zi 's score is 100\n",
      "xiao qie zi 's score is 100\n"
     ]
    }
   ],
   "source": [
    "def studentScore(name,score):\n",
    "    print(name,\"'s score is\",score)\n",
    "studentScore(\"xiao qie zi\",100)\n",
    "studentScore(name = \"xiao qie zi\",score = 100)\n",
    "studentScore(score=100,name=\"xiao qie zi\")"
   ]
  },
  {
   "cell_type": "code",
   "execution_count": 31,
   "metadata": {},
   "outputs": [
    {
     "name": "stdout",
     "output_type": "stream",
     "text": [
      "students :\n",
      "('xiao qie zi', '617', 617, '681') <class 'tuple'>\n",
      "\t xiao qie zi\n",
      "\t 617\n",
      "\t 617\n",
      "\t 681\n",
      "students :\n",
      "() <class 'tuple'>\n"
     ]
    }
   ],
   "source": [
    "def myPrint(title,*contents):\n",
    "    print(title,\":\")\n",
    "    print(contents,type(contents))\n",
    "    for x in contents:\n",
    "        print(\"\\t\",x)\n",
    "myPrint(\"students\",\"xiao qie zi\",\"617\",617,\"681\")\n",
    "myPrint(\"students\")"
   ]
  },
  {
   "cell_type": "code",
   "execution_count": 36,
   "metadata": {},
   "outputs": [
    {
     "name": "stdout",
     "output_type": "stream",
     "text": [
      "students :\n",
      "{'name': 'xiao qie zi', 'age': 2200, 'gender': 'male'} <class 'dict'>\n",
      "name \t\t xiao qie zi\n",
      "age \t\t 2200\n",
      "gender \t\t male\n"
     ]
    }
   ],
   "source": [
    "def myPrint(title,**contents):\n",
    "    print(title,\":\")\n",
    "    print(contents,type(contents))\n",
    "    for key ,value in contents.items():\n",
    "        print(key,\"\\t\\t\",value)\n",
    "myPrint(title=\"students\",name=\"xiao qie zi\",age = 2200,gender = \"male\")"
   ]
  },
  {
   "cell_type": "code",
   "execution_count": 39,
   "metadata": {},
   "outputs": [
    {
     "name": "stdout",
     "output_type": "stream",
     "text": [
      "xiao qie zi\n",
      "100\n",
      "2800\n",
      "10000\n",
      "xiao qie zi\n",
      "100\n",
      "2800\n",
      "10000\n"
     ]
    }
   ],
   "source": [
    "def studentScore(name,score,age,salary):\n",
    "    print(name)\n",
    "    print(score)\n",
    "    print(age)\n",
    "    print(salary)\n",
    "xiaoqiezi = (\"xiao qie zi\",100,2800,10000)\n",
    "studentScore(*xiaoqiezi)\n",
    "xiaoqiezi = [\"xiao qie zi\",100,2800,10000]\n",
    "studentScore(*xiaoqiezi)"
   ]
  },
  {
   "cell_type": "code",
   "execution_count": null,
   "metadata": {},
   "outputs": [],
   "source": []
  }
 ],
 "metadata": {
  "interpreter": {
   "hash": "063997466fb8d14a66bdbd4ad5df2a78771035d795576952896bfbd2277157cc"
  },
  "kernelspec": {
   "display_name": "Python 3.8.10 64-bit (windows store)",
   "language": "python",
   "name": "python3"
  },
  "language_info": {
   "codemirror_mode": {
    "name": "ipython",
    "version": 3
   },
   "file_extension": ".py",
   "mimetype": "text/x-python",
   "name": "python",
   "nbconvert_exporter": "python",
   "pygments_lexer": "ipython3",
   "version": "3.8.10"
  },
  "orig_nbformat": 4
 },
 "nbformat": 4,
 "nbformat_minor": 2
}
