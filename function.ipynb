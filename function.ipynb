{
 "cells": [
  {
   "cell_type": "code",
   "execution_count": 1,
   "metadata": {},
   "outputs": [],
   "source": [
    "#函数与抽象\n",
    "\n",
    "# int main(int number);\n",
    "# int main(int number){\n",
    "#     return 0;\n",
    "# }\n"
   ]
  },
  {
   "cell_type": "code",
   "execution_count": 2,
   "metadata": {},
   "outputs": [
    {
     "name": "stdout",
     "output_type": "stream",
     "text": [
      "19\n"
     ]
    }
   ],
   "source": [
    "def f(x):\n",
    "    return x*x + 3*x + 1\n",
    "\n",
    "print(f(3))"
   ]
  },
  {
   "cell_type": "code",
   "execution_count": 3,
   "metadata": {},
   "outputs": [
    {
     "name": "stdout",
     "output_type": "stream",
     "text": [
      "add two numbers\n"
     ]
    }
   ],
   "source": [
    "def add(x,y):\n",
    "    \"add two numbers\"\n",
    "    return x+y\n",
    "print(add.__doc__)"
   ]
  },
  {
   "cell_type": "code",
   "execution_count": 1,
   "metadata": {},
   "outputs": [
    {
     "name": "stdout",
     "output_type": "stream",
     "text": [
      "before swap, a=2, b=3,id(a)=140707989755696,id(b)=140707989755728\n",
      "in function: id(x)=140707989755696 , id(y)=140707989755728\n",
      "x,y swap: id(x)=140707989755728 , id(y)=140707989755696\n",
      "after swap, a=2, b=3,c=5,id(a)=140707989755696,id(b)=140707989755728\n"
     ]
    }
   ],
   "source": [
    "#函数的参数传递\n",
    "#形参，实参\n",
    "\n",
    "a,b = 2,3\n",
    "print(\"before swap, a=%d, b=%d,id(a)=%d,id(b)=%d\"%(a,b,id(a),id(b)))\n",
    "\n",
    "#名字绑定\n",
    "def swap(x,y):\n",
    "    print(\"in function: id(x)=%d , id(y)=%d\"%(id(x),id(y)))\n",
    "    x,y = y,x\n",
    "    s = x + y\n",
    "    print(\"x,y swap: id(x)=%d , id(y)=%d\"%(id(x),id(y)))\n",
    "    return s\n",
    "\n",
    "#实参是a，b\n",
    "#形参是x，y\n",
    "#参数传递\n",
    "\n",
    "#c\n",
    "#值传递 把a的值，复制一份，传递给x\n",
    "#引用传递\n",
    "c = swap(a,b)\n",
    "\n",
    "print(\"after swap, a=%d, b=%d,c=%d,id(a)=%d,id(b)=%d\"%(a,b,c,id(a),id(b)))\n"
   ]
  },
  {
   "cell_type": "code",
   "execution_count": 5,
   "metadata": {},
   "outputs": [
    {
     "name": "stdout",
     "output_type": "stream",
     "text": [
      "before swap, a=1, b=4,id(a)=1838345676288,id(b)=1838345994304\n",
      "in function: id(x)=1838345676288 , id(y)=1838345994304\n",
      "x,y swap: id(x)=1838345994304 , id(y)=1838345676288\n",
      "after swap, a=1, b=4,id(a)=1838345676288,id(b)=1838345994304\n"
     ]
    }
   ],
   "source": [
    "a = [1,2,3]\n",
    "b = [4,5,6]\n",
    "print(\"before swap, a=%d, b=%d,id(a)=%d,id(b)=%d\"%(a[0],b[0],id(a),id(b)))\n",
    "\n",
    "def swap(x,y):\n",
    "    print(\"in function: id(x)=%d , id(y)=%d\"%(id(x),id(y)))\n",
    "    x,y = y,x\n",
    "    print(\"x,y swap: id(x)=%d , id(y)=%d\"%(id(x),id(y)))\n",
    "\n",
    "swap(a,b)\n",
    "\n",
    "print(\"after swap, a=%d, b=%d,id(a)=%d,id(b)=%d\"%(a[0],b[0],id(a),id(b)))"
   ]
  },
  {
   "cell_type": "code",
   "execution_count": 6,
   "metadata": {},
   "outputs": [
    {
     "name": "stdout",
     "output_type": "stream",
     "text": [
      "[0, 0, 0, 1]\n"
     ]
    }
   ],
   "source": [
    "#值传递，引用传递，名字绑定(进阶知识)\n",
    "#什么是值传递？要把实参的值copy一份给形参作为值的，然后形参在函数中的操作就和实参没有关系了\n",
    "#什么是引用传递？传引用是使用形参给实参取一个别名（alias），函数中对形参的操作实际上就是对实参的操作\n",
    "#两个例子\n",
    "a = [0,0,0]\n",
    "def f1(c):\n",
    "    c.append(1)\n",
    "f1(a)\n",
    "print(a)\n",
    "#可见不是值传递，那么是不是引用传递？\n"
   ]
  },
  {
   "cell_type": "code",
   "execution_count": 7,
   "metadata": {},
   "outputs": [
    {
     "name": "stdout",
     "output_type": "stream",
     "text": [
      "[0, 0, 0]\n"
     ]
    }
   ],
   "source": [
    "a = [0,0,0]\n",
    "def f2(c):\n",
    "    c = [1,1,1]\n",
    "print(a)\n",
    "#可见python中的参数传递，既不是值传递，也不是引用传递，而是名字绑定"
   ]
  },
  {
   "cell_type": "code",
   "execution_count": 1,
   "metadata": {},
   "outputs": [
    {
     "name": "stdout",
     "output_type": "stream",
     "text": [
      "3\n"
     ]
    }
   ],
   "source": [
    "#提问，修改形参的修改，会不会影响到实参？\n",
    "a = 3\n",
    "def f3(c):\n",
    "    c = 2\n",
    "f3(a)\n",
    "print(a)"
   ]
  },
  {
   "cell_type": "code",
   "execution_count": 9,
   "metadata": {},
   "outputs": [
    {
     "name": "stdout",
     "output_type": "stream",
     "text": [
      "[0, 0, 0]\n"
     ]
    }
   ],
   "source": [
    "a = [0,0,0]\n",
    "def f3(c):\n",
    "    c = [1,1,1]\n",
    "f3(a)\n",
    "print(a)"
   ]
  },
  {
   "cell_type": "code",
   "execution_count": 10,
   "metadata": {},
   "outputs": [
    {
     "name": "stdout",
     "output_type": "stream",
     "text": [
      "[0, 1, 0]\n"
     ]
    }
   ],
   "source": [
    "a = [0,0,0]\n",
    "def f3(c):\n",
    "    c[1] = 1\n",
    "f3(a)\n",
    "print(a)"
   ]
  },
  {
   "cell_type": "code",
   "execution_count": 11,
   "metadata": {},
   "outputs": [
    {
     "name": "stdout",
     "output_type": "stream",
     "text": [
      "400\n",
      "600\n"
     ]
    }
   ],
   "source": [
    "#函数的参数\n",
    "# 默认参数\n",
    "def f4(number1,number2 = 100):\n",
    "    return number1 + number2\n",
    "\n",
    "print(f4(300))\n",
    "print(f4(300 , 300))"
   ]
  },
  {
   "cell_type": "code",
   "execution_count": 12,
   "metadata": {},
   "outputs": [
    {
     "name": "stdout",
     "output_type": "stream",
     "text": [
      "xiao qie zi 's score is 100\n",
      "xiao qie zi 's score is 100\n",
      "xiao qie zi 's score is 100\n"
     ]
    }
   ],
   "source": [
    "def studentScore(name,score):\n",
    "    print(name,\"'s score is\",score)\n",
    "\n",
    "studentScore(\"xiao qie zi\",100)\n",
    "\n",
    "studentScore(name = \"xiao qie zi\",score = 100)\n",
    "\n",
    "studentScore(score=100,name=\"xiao qie zi\")"
   ]
  },
  {
   "cell_type": "code",
   "execution_count": 13,
   "metadata": {},
   "outputs": [
    {
     "name": "stdout",
     "output_type": "stream",
     "text": [
      "students :\n",
      "('xiao qie zi', '617', 617, '681') <class 'tuple'>\n",
      "\t xiao qie zi\n",
      "\t 617\n",
      "\t 617\n",
      "\t 681\n",
      "students :\n",
      "() <class 'tuple'>\n"
     ]
    }
   ],
   "source": [
    "#可变参数，一个函数的参数数量，可以有变化\n",
    "#\n",
    "def myPrint(title,*contents):\n",
    "    print(title,\":\")\n",
    "    print(contents,type(contents))\n",
    "    for x in contents:\n",
    "        print(\"\\t\",x)\n",
    "myPrint(\"students\",\"xiao qie zi\",\"617\",617,\"681\")\n",
    "myPrint(\"students\")"
   ]
  },
  {
   "cell_type": "code",
   "execution_count": 14,
   "metadata": {},
   "outputs": [
    {
     "name": "stdout",
     "output_type": "stream",
     "text": [
      "students :\n",
      "{'name': 'xiao qie zi', 'age': 2200, 'gender': 'male'} <class 'dict'>\n",
      "name \t\t xiao qie zi\n",
      "age \t\t 2200\n",
      "gender \t\t male\n"
     ]
    }
   ],
   "source": [
    "#*元组\n",
    "#**字典\n",
    "def myPrint(title,**contents):\n",
    "    print(title,\":\")\n",
    "    print(contents,type(contents))\n",
    "    for key ,value in contents.items():\n",
    "        print(key,\"\\t\\t\",value)\n",
    "myPrint(title=\"students\",name=\"xiao qie zi\",age = 2200,gender = \"male\")"
   ]
  },
  {
   "cell_type": "code",
   "execution_count": 15,
   "metadata": {},
   "outputs": [
    {
     "name": "stdout",
     "output_type": "stream",
     "text": [
      "xiao qie zi\n",
      "100\n",
      "2800\n",
      "10000\n",
      "xiao qie zi\n",
      "100\n",
      "2800\n",
      "10000\n"
     ]
    }
   ],
   "source": [
    "def studentScore(name,score,age,salary):\n",
    "    print(name)\n",
    "    print(score)\n",
    "    print(age)\n",
    "    print(salary)\n",
    "xiaoqiezi = (\"xiao qie zi\",100,2800,10000)\n",
    "studentScore(*xiaoqiezi)\n",
    "xiaoqiezi = [\"xiao qie zi\",100,2800,10000]\n",
    "studentScore(*xiaoqiezi)"
   ]
  },
  {
   "cell_type": "code",
   "execution_count": 16,
   "metadata": {},
   "outputs": [],
   "source": [
    "#作用域\n",
    "x = 1\n",
    "s = \"xiao qie zi\"\n",
    "scope = vars()\n",
    "#print(scope)"
   ]
  },
  {
   "cell_type": "code",
   "execution_count": 2,
   "metadata": {},
   "outputs": [
    {
     "name": "stdout",
     "output_type": "stream",
     "text": [
      "in funvtion x= 1\n",
      "in funvtion y= 100\n",
      "out funvtion x= 99\n",
      "out funvtion y= 100\n"
     ]
    }
   ],
   "source": [
    "#作用域\n",
    "x = 99\n",
    "y = 100\n",
    "\n",
    "def f1():\n",
    "    x = 1\n",
    "    print(\"in funvtion x=\",x)\n",
    "    print(\"in funvtion y=\",y)\n",
    "\n",
    "\n",
    "f1()\n",
    "print(\"out funvtion x=\",x)\n",
    "print(\"out funvtion y=\",y)\n"
   ]
  },
  {
   "cell_type": "code",
   "execution_count": 18,
   "metadata": {},
   "outputs": [
    {
     "name": "stdout",
     "output_type": "stream",
     "text": [
      "in funvtion x= 1\n",
      "in funvtion y= 3\n",
      "out funvtion x= 99\n",
      "out funvtion y= [1, 2, 3]\n"
     ]
    }
   ],
   "source": [
    "x = 99\n",
    "y = [1,2,3]\n",
    "\n",
    "def f1():\n",
    "    x = 1\n",
    "    y = 3\n",
    "    print(\"in funvtion x=\",x)\n",
    "    print(\"in funvtion y=\",y)\n",
    "\n",
    "\n",
    "f1()\n",
    "print(\"out funvtion x=\",x)\n",
    "print(\"out funvtion y=\",y)"
   ]
  },
  {
   "cell_type": "code",
   "execution_count": 19,
   "metadata": {},
   "outputs": [
    {
     "name": "stdout",
     "output_type": "stream",
     "text": [
      "in funvtion x= 1\n",
      "in funvtion y= [99, 99, 77]\n",
      "out funvtion x= 99\n",
      "out funvtion y= [1, 2, 3]\n"
     ]
    }
   ],
   "source": [
    "x = 99\n",
    "y = [1,2,3]\n",
    "\n",
    "def f1():\n",
    "    x = 1\n",
    "    y = [99,88,77]\n",
    "    y[1] = 99  #本地没有y，所以这里是只的全局的y\n",
    "    #y = 99\n",
    "    print(\"in funvtion x=\",x)\n",
    "    print(\"in funvtion y=\",y)\n",
    "\n",
    "\n",
    "f1()\n",
    "print(\"out funvtion x=\",x)\n",
    "print(\"out funvtion y=\",y)"
   ]
  },
  {
   "cell_type": "code",
   "execution_count": 20,
   "metadata": {},
   "outputs": [
    {
     "name": "stdout",
     "output_type": "stream",
     "text": [
      "in funvtion x= 1\n",
      "in funvtion y= [1, 99, 3]\n",
      "out funvtion x= 99\n",
      "out funvtion y= [1, 99, 3]\n"
     ]
    }
   ],
   "source": [
    "x = 99\n",
    "y = [1,2,3]\n",
    "\n",
    "def f1():#局部作用域里面可以使用全局作用域的变量的值，但是如果使用相同的名字赋值的话，就是相当于在局部作用域中新加了一个名字。\n",
    "    x = 1\n",
    "    y[1] = 99\n",
    "    print(\"in funvtion x=\",x)\n",
    "    print(\"in funvtion y=\",y)\n",
    "\n",
    "\n",
    "f1()\n",
    "print(\"out funvtion x=\",x)\n",
    "print(\"out funvtion y=\",y)"
   ]
  },
  {
   "cell_type": "code",
   "execution_count": 21,
   "metadata": {},
   "outputs": [
    {
     "name": "stdout",
     "output_type": "stream",
     "text": [
      "in funvtion x= 1\n",
      "in funvtion y= 99\n",
      "out funvtion x= 1\n",
      "out funvtion y= [1, 2, 3]\n"
     ]
    }
   ],
   "source": [
    "x = 99\n",
    "y = [1,2,3]\n",
    "\n",
    "def f1():\n",
    "    global x;\n",
    "    x = 1\n",
    "    y = 99\n",
    "    print(\"in funvtion x=\",x)\n",
    "    print(\"in funvtion y=\",y)\n",
    "\n",
    "\n",
    "f1()\n",
    "print(\"out funvtion x=\",x)\n",
    "print(\"out funvtion y=\",y)"
   ]
  },
  {
   "cell_type": "code",
   "execution_count": 22,
   "metadata": {},
   "outputs": [
    {
     "name": "stdout",
     "output_type": "stream",
     "text": [
      "local x =  77\n",
      "global x =  1\n"
     ]
    }
   ],
   "source": [
    "def f3():\n",
    "    x = 77;\n",
    "    print(\"local x = \",x)\n",
    "    print(\"global x = \",globals()['x'])\n",
    "\n",
    "x = 1\n",
    "f3()"
   ]
  },
  {
   "cell_type": "code",
   "execution_count": 3,
   "metadata": {},
   "outputs": [
    {
     "name": "stdout",
     "output_type": "stream",
     "text": [
      "120\n"
     ]
    }
   ],
   "source": [
    "#递归\n",
    "#求5的阶乘 5！ = 5*4*3*2*1\n",
    "#观察可以得出：5！ = 5*4！，同理 4！=4*3！…… 1！ = 1\n",
    "#这种问题可以使用递归来解决，即把一个大问题分成与大问题解决相同的小问题。\n",
    "\n",
    "#先给出正确的递归：\n",
    "def f4(x):\n",
    "    if x == 1: #递归的终止条件\n",
    "        return 1\n",
    "    else:\n",
    "        return x*f4(x-1)\n",
    "print(f4(5))"
   ]
  },
  {
   "cell_type": "code",
   "execution_count": 24,
   "metadata": {},
   "outputs": [
    {
     "name": "stdout",
     "output_type": "stream",
     "text": [
      "3825\n"
     ]
    }
   ],
   "source": [
    "#可以简单把递归分为两个部分：1.终止条件 2.递归子问题\n",
    "#终止条件：因为想要计算机帮我们做一件重复的事，计算机并不知道什么时候会停止。我们需要告诉计算机什么时候停止\n",
    "#它才会停止（类比while）\n",
    "#递归子问题：我们想要计算机帮我们解决的具体问题，这里就是计算阶乘。\n",
    "\n",
    "#使用递归 计算 100+99+98+ ……50\n",
    "def f5(x):\n",
    "    if x == 50:\n",
    "        return 50\n",
    "    else:\n",
    "        return x + f5(x-1)\n",
    "print(f5(100))\n"
   ]
  },
  {
   "cell_type": "code",
   "execution_count": null,
   "metadata": {},
   "outputs": [],
   "source": []
  }
 ],
 "metadata": {
  "interpreter": {
   "hash": "063997466fb8d14a66bdbd4ad5df2a78771035d795576952896bfbd2277157cc"
  },
  "kernelspec": {
   "display_name": "Python 3.8.10 64-bit (windows store)",
   "language": "python",
   "name": "python3"
  },
  "language_info": {
   "codemirror_mode": {
    "name": "ipython",
    "version": 3
   },
   "file_extension": ".py",
   "mimetype": "text/x-python",
   "name": "python",
   "nbconvert_exporter": "python",
   "pygments_lexer": "ipython3",
   "version": "3.8.10"
  },
  "orig_nbformat": 4
 },
 "nbformat": 4,
 "nbformat_minor": 2
}
