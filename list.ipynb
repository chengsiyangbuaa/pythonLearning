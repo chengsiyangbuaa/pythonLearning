{
 "cells": [
  {
   "cell_type": "code",
   "execution_count": 2,
   "metadata": {},
   "outputs": [],
   "source": [
    "#列表"
   ]
  },
  {
   "cell_type": "code",
   "execution_count": 2,
   "metadata": {},
   "outputs": [
    {
     "name": "stdout",
     "output_type": "stream",
     "text": [
      "['xiao qie zi', 100, 4.396, ['xiao', 'qie', 'zi']]\n",
      "<class 'list'>\n",
      "4\n",
      "xiao qie zi\n",
      "['xiao', 'qie', 'zi']\n",
      "11\n"
     ]
    }
   ],
   "source": [
    "list2 = []#容器\n",
    "list1 = [\"xiao qie zi\",100,4.396,['xiao','qie','zi']]\n",
    "print(list1)\n",
    "print(type(list1))\n",
    "print(len(list1))#len(),list的元素的数量,\n",
    "print(list1[0])\n",
    "print(list1[3])\n",
    "print(len(list1[0]))\n",
    "\n"
   ]
  },
  {
   "cell_type": "code",
   "execution_count": 4,
   "metadata": {},
   "outputs": [
    {
     "name": "stdout",
     "output_type": "stream",
     "text": [
      "list1[0] xiao qie zi\n",
      "list1[1] 100\n",
      "list1[2] 4.396\n",
      "list1[3] ['xiao', 'qie', 'zi']\n"
     ]
    }
   ],
   "source": [
    "list1 = [\"xiao qie zi\",100,4.396,['xiao','qie','zi']]\n",
    "print(\"list1[0]\",list1[0])\n",
    "print(\"list1[1]\",list1[1])\n",
    "print(\"list1[2]\",list1[2])\n",
    "print(\"list1[3]\",list1[3])\n"
   ]
  },
  {
   "cell_type": "code",
   "execution_count": 5,
   "metadata": {},
   "outputs": [
    {
     "name": "stdout",
     "output_type": "stream",
     "text": [
      "list1[-1] ['xiao', 'qie', 'zi']\n",
      "list1[-2] 4.396\n",
      "xiao qie zi\n"
     ]
    }
   ],
   "source": [
    "list1 = [\"xiao qie zi\",100,4.396,['xiao','qie','zi']]\n",
    "print(\"list1[-1]\",list1[-1])\n",
    "print(\"list1[-2]\",list1[-2])\n",
    "print(list1[-4])\n"
   ]
  },
  {
   "cell_type": "code",
   "execution_count": 6,
   "metadata": {},
   "outputs": [
    {
     "name": "stdout",
     "output_type": "stream",
     "text": [
      "list1[0:1] ['xiao qie zi']\n",
      "list1[0:2] ['xiao qie zi', 100]\n",
      "list1[0:3] ['xiao qie zi', 100, 4.396]\n",
      "list1[0:4] ['xiao qie zi', 100, 4.396, ['xiao', 'qie', 'zi']]\n"
     ]
    }
   ],
   "source": [
    "list1 = [\"xiao qie zi\",100,4.396,['xiao','qie','zi']]\n",
    "print(\"list1[0:1]\",list1[0:1]) # 取列表中的第0到1个元素，取0不取1\n",
    "print(\"list1[0:2]\",list1[0:2]) \n",
    "print(\"list1[0:3]\",list1[0:3])\n",
    "print(\"list1[0:4]\",list1[0:4])"
   ]
  },
  {
   "cell_type": "code",
   "execution_count": 7,
   "metadata": {},
   "outputs": [
    {
     "name": "stdout",
     "output_type": "stream",
     "text": [
      "['xiao qie zi', 100, 'chou hu zi', ['xiao', 'qie', 'zi']]\n"
     ]
    }
   ],
   "source": [
    "list1 = [\"xiao qie zi\",100,4.396,['xiao','qie','zi']]\n",
    "list1[2] = 'chou hu zi'\n",
    "print(list1)"
   ]
  },
  {
   "cell_type": "code",
   "execution_count": 9,
   "metadata": {},
   "outputs": [
    {
     "name": "stdout",
     "output_type": "stream",
     "text": [
      "['xiao qie zi', 100, 4.396, ['xiao', 'qie', 'zi'], 'bai hu zi']\n"
     ]
    }
   ],
   "source": [
    "list1 = [\"xiao qie zi\",100,4.396,['xiao','qie','zi']]\n",
    "list1.append('bai hu zi')\n",
    "print(list1)"
   ]
  },
  {
   "cell_type": "code",
   "execution_count": 14,
   "metadata": {},
   "outputs": [
    {
     "name": "stdout",
     "output_type": "stream",
     "text": [
      "['xiao qie zi', 7777, 100, 4.396, ['xiao', 'qie', 'zi']]\n"
     ]
    }
   ],
   "source": [
    "list1 = [\"xiao qie zi\",100,4.396,['xiao','qie','zi']]\n",
    "list1.insert(1,7777)\n",
    "print(list1)"
   ]
  },
  {
   "cell_type": "code",
   "execution_count": 13,
   "metadata": {},
   "outputs": [
    {
     "name": "stdout",
     "output_type": "stream",
     "text": [
      "['xiao qie zi', 100, ['xiao', 'qie', 'zi']]\n"
     ]
    }
   ],
   "source": [
    "list1 = [\"xiao qie zi\",100,4.396,['xiao','qie','zi']]\n",
    "del list1[2]\n",
    "print(list1)"
   ]
  },
  {
   "cell_type": "code",
   "execution_count": 15,
   "metadata": {},
   "outputs": [
    {
     "name": "stdout",
     "output_type": "stream",
     "text": [
      "['xiao', 'qie', 'zi']\n",
      "['xiao qie zi', 100, 4.396]\n"
     ]
    }
   ],
   "source": [
    "list1 = [\"xiao qie zi\",100,4.396,['xiao','qie','zi']]\n",
    "list2 = list1.pop()\n",
    "print(list2)\n",
    "print(list1)"
   ]
  },
  {
   "cell_type": "code",
   "execution_count": 16,
   "metadata": {},
   "outputs": [
    {
     "name": "stdout",
     "output_type": "stream",
     "text": [
      "[['jack', 99, 98, 97], ['xiao_qie_zi', 100, 100, 100], ['ming_xuan_shen', 60, 60, 60], ['lu17', 59, 59, 59]]\n",
      "['xiao_qie_zi', 100, 100, 100]\n",
      "60\n",
      "[['jack', 99, 98, 97], ['xiao_qie_zi', 100, 100, 100], ['ming_xuan_shen', 90, 60, 60], ['lu17', 59, 59, 59]]\n"
     ]
    }
   ],
   "source": [
    "#name math_score english_score computer_score\n",
    "jack = [\"jack\",99,98,97]\n",
    "xiao_qie_zi = [\"xiao_qie_zi\",100,100,100]\n",
    "ming_xuan_shen = [\"ming_xuan_shen\",60,60,60]\n",
    "lu17 = [\"lu17\",59,59,59]\n",
    "\n",
    "students = [jack,xiao_qie_zi,ming_xuan_shen]\n",
    "students.append(lu17)\n",
    "print(students)\n",
    "print(students[1])\n",
    "print(students[2][1])\n",
    "students[2][1] =90\n",
    "print(students)\n",
    "\n"
   ]
  },
  {
   "cell_type": "code",
   "execution_count": 18,
   "metadata": {},
   "outputs": [
    {
     "name": "stdout",
     "output_type": "stream",
     "text": [
      "['jack', 10000, 98, 97]\n",
      "['jack', 10000, 98, 97]\n"
     ]
    }
   ],
   "source": [
    "list2 = [\"jack\",99,98,97]\n",
    "list3 = list2 #名字绑定\n",
    "list3[1] = 10000\n",
    "print(list2)\n",
    "print(list3)"
   ]
  },
  {
   "cell_type": "code",
   "execution_count": 25,
   "metadata": {},
   "outputs": [
    {
     "name": "stdout",
     "output_type": "stream",
     "text": [
      "['jack', 'lu17', 'ming_xuan_shen', 'xiao_qie_zi']\n"
     ]
    }
   ],
   "source": [
    "list4 = [\"jack\",'xiao_qie_zi',\"ming_xuan_shen\",\"lu17\"]\n",
    "list4.sort()\n",
    "print(list4)"
   ]
  },
  {
   "cell_type": "code",
   "execution_count": 21,
   "metadata": {},
   "outputs": [
    {
     "name": "stdout",
     "output_type": "stream",
     "text": [
      "['ming_xuan_shen', 'xiao_qie_zi', 'lu617', 'jack']\n"
     ]
    }
   ],
   "source": [
    "list4 = [\"jack\",'xiao_qie_zi',\"ming_xuan_shen\",\"lu617\"]\n",
    "list4.sort(key=len,reverse=True)\n",
    "print(list4)"
   ]
  },
  {
   "cell_type": "code",
   "execution_count": 20,
   "metadata": {},
   "outputs": [
    {
     "ename": "TypeError",
     "evalue": "'<' not supported between instances of 'int' and 'str'",
     "output_type": "error",
     "traceback": [
      "\u001b[1;31m---------------------------------------------------------------------------\u001b[0m",
      "\u001b[1;31mTypeError\u001b[0m                                 Traceback (most recent call last)",
      "\u001b[1;32m~\\AppData\\Local\\Temp/ipykernel_18852/2097357953.py\u001b[0m in \u001b[0;36m<module>\u001b[1;34m\u001b[0m\n\u001b[0;32m      1\u001b[0m \u001b[0mlist4\u001b[0m \u001b[1;33m=\u001b[0m \u001b[1;33m[\u001b[0m\u001b[1;34m\"jack\"\u001b[0m\u001b[1;33m,\u001b[0m\u001b[1;36m5\u001b[0m\u001b[1;33m,\u001b[0m\u001b[1;36m5.13\u001b[0m\u001b[1;33m,\u001b[0m\u001b[1;34m'xiao_qie_zi'\u001b[0m\u001b[1;33m,\u001b[0m\u001b[1;34m\"ming_xuan_shen\"\u001b[0m\u001b[1;33m,\u001b[0m\u001b[1;34m\"lu617\"\u001b[0m\u001b[1;33m]\u001b[0m\u001b[1;33m\u001b[0m\u001b[1;33m\u001b[0m\u001b[0m\n\u001b[1;32m----> 2\u001b[1;33m \u001b[0mlist4\u001b[0m\u001b[1;33m.\u001b[0m\u001b[0msort\u001b[0m\u001b[1;33m(\u001b[0m\u001b[1;33m)\u001b[0m\u001b[1;33m\u001b[0m\u001b[1;33m\u001b[0m\u001b[0m\n\u001b[0m\u001b[0;32m      3\u001b[0m \u001b[0mprint\u001b[0m\u001b[1;33m(\u001b[0m\u001b[0mlist4\u001b[0m\u001b[1;33m)\u001b[0m\u001b[1;33m\u001b[0m\u001b[1;33m\u001b[0m\u001b[0m\n",
      "\u001b[1;31mTypeError\u001b[0m: '<' not supported between instances of 'int' and 'str'"
     ]
    }
   ],
   "source": [
    "list4 = [\"jack\",5,5.13,'xiao_qie_zi',\"ming_xuan_shen\",\"lu617\"]\n",
    "list4.sort()\n",
    "print(list4)"
   ]
  },
  {
   "cell_type": "code",
   "execution_count": 30,
   "metadata": {},
   "outputs": [
    {
     "name": "stdout",
     "output_type": "stream",
     "text": [
      "[0, 19, 36, 36, 42, 77, 86]\n"
     ]
    }
   ],
   "source": [
    "list5 = [42,36,77,86,19,36,0]\n",
    "list5.sort()\n",
    "print(list5)"
   ]
  },
  {
   "cell_type": "code",
   "execution_count": 32,
   "metadata": {},
   "outputs": [
    {
     "name": "stdout",
     "output_type": "stream",
     "text": [
      "[86, 77, 42, 36, 36, 19, 0]\n"
     ]
    }
   ],
   "source": [
    "list5 = [42,36,77,86,19,36,0]\n",
    "list5.sort(reverse=True)\n",
    "print(list5)"
   ]
  },
  {
   "cell_type": "code",
   "execution_count": 23,
   "metadata": {},
   "outputs": [
    {
     "name": "stdout",
     "output_type": "stream",
     "text": [
      "6\n",
      "617\n",
      "<class 'int'>\n",
      "####################\n",
      "6 1 7\n",
      "<class 'str'>\n",
      "####################\n",
      "xioao qie zi\n",
      "<class 'str'>\n",
      "####################\n",
      "ming xuan shen\n",
      "<class 'str'>\n",
      "####################\n",
      "3.14\n",
      "<class 'float'>\n",
      "####################\n",
      "['xiao', 'qie', 'zi']\n",
      "<class 'list'>\n",
      "####################\n"
     ]
    }
   ],
   "source": [
    "list6 = [617,\"6 1 7\",'xioao qie zi',\"ming xuan shen\",3.14,['xiao','qie','zi']] #遍历\n",
    "print(len(list6))\n",
    "for x in list6:\n",
    "    print(x)\n",
    "    print(type(x))\n",
    "    print(\"####################\")"
   ]
  },
  {
   "cell_type": "code",
   "execution_count": 24,
   "metadata": {},
   "outputs": [
    {
     "name": "stdout",
     "output_type": "stream",
     "text": [
      "0\n",
      "1\n",
      "2\n",
      "3\n",
      "4\n",
      "<class 'range'>\n"
     ]
    }
   ],
   "source": [
    "for i in range(0,5):#获得一个序列，从0到5的整数，有0，没有5\n",
    "    print(i)\n",
    "\n",
    "print(type(range(5)))\n"
   ]
  },
  {
   "cell_type": "code",
   "execution_count": 39,
   "metadata": {},
   "outputs": [
    {
     "name": "stdout",
     "output_type": "stream",
     "text": [
      "0\n",
      "1\n",
      "2\n",
      "3\n",
      "4\n"
     ]
    }
   ],
   "source": [
    "for i in range(5):\n",
    "    print(i)"
   ]
  },
  {
   "cell_type": "code",
   "execution_count": 41,
   "metadata": {},
   "outputs": [
    {
     "name": "stdout",
     "output_type": "stream",
     "text": [
      "0\n",
      "1\n",
      "2\n",
      "3\n",
      "4\n"
     ]
    }
   ],
   "source": [
    "for i in range(0,5):\n",
    "    print(i)"
   ]
  },
  {
   "cell_type": "code",
   "execution_count": 40,
   "metadata": {},
   "outputs": [
    {
     "name": "stdout",
     "output_type": "stream",
     "text": [
      "2\n",
      "3\n",
      "4\n"
     ]
    }
   ],
   "source": [
    "for i in range(2,5):\n",
    "    print(i)"
   ]
  },
  {
   "cell_type": "code",
   "execution_count": 26,
   "metadata": {},
   "outputs": [
    {
     "name": "stdout",
     "output_type": "stream",
     "text": [
      "<class 'range'>\n",
      "range(0, 5)\n",
      "2\n"
     ]
    }
   ],
   "source": [
    "x = range(5)\n",
    "print(type(x))\n",
    "print(x)\n",
    "#print(list(x))\n",
    "print(x[2])"
   ]
  },
  {
   "cell_type": "code",
   "execution_count": 46,
   "metadata": {},
   "outputs": [
    {
     "name": "stdout",
     "output_type": "stream",
     "text": [
      "0\n",
      "1\n",
      "2\n",
      "3\n",
      "4\n"
     ]
    }
   ],
   "source": [
    "for i in x:\n",
    "    print(i)"
   ]
  },
  {
   "cell_type": "code",
   "execution_count": 27,
   "metadata": {},
   "outputs": [
    {
     "name": "stdout",
     "output_type": "stream",
     "text": [
      "<class 'list'>\n",
      "[0, 1, 2, 3, 4]\n",
      "2\n",
      "True\n"
     ]
    }
   ],
   "source": [
    "x = range(5)\n",
    "x = list(x)\n",
    "print(type(x))\n",
    "print(x)\n",
    "print(x[2])"
   ]
  },
  {
   "cell_type": "code",
   "execution_count": 29,
   "metadata": {},
   "outputs": [
    {
     "name": "stdout",
     "output_type": "stream",
     "text": [
      "[0, 4, 8, 12, 16]\n",
      "[0, 1, 2, 3, 4, 5, 6, 7, 8, 9, 10, 11, 12, 13, 14, 15, 16]\n"
     ]
    }
   ],
   "source": [
    "x = list(range(0,17,4))\n",
    "print(x)\n",
    "x = list(range(0,17))\n",
    "print(x)"
   ]
  },
  {
   "cell_type": "code",
   "execution_count": 52,
   "metadata": {},
   "outputs": [
    {
     "name": "stdout",
     "output_type": "stream",
     "text": [
      "[9, 8, 7, 6, 5, 4, 3]\n"
     ]
    }
   ],
   "source": [
    "x = list(range(9,2,-1))\n",
    "print(x)"
   ]
  },
  {
   "cell_type": "code",
   "execution_count": 54,
   "metadata": {},
   "outputs": [
    {
     "name": "stdout",
     "output_type": "stream",
     "text": [
      "74\n",
      "23\n",
      "350\n"
     ]
    }
   ],
   "source": [
    "score = [23,24,35,74,56,56,47,35]\n",
    "print(max(score))\n",
    "print(min(score))\n",
    "print(sum(score))"
   ]
  },
  {
   "cell_type": "code",
   "execution_count": 33,
   "metadata": {},
   "outputs": [
    {
     "name": "stdout",
     "output_type": "stream",
     "text": [
      "[101, 108, 127, 164, 225, 316, 443, 612, 829, 1100]\n",
      "[1, 8, 27, 64, 125, 216, 343, 512, 729, 1000]\n",
      "[2, 2, 2, 2, 2, 2, 2, 2, 2, 2]\n"
     ]
    }
   ],
   "source": [
    "#重点！！！python之强大之处[表达式（x） for x in range()]\n",
    "list7 = [x ** 3 + 100 for x in range(1,11)]\n",
    "print(list7)\n",
    "list7 = [x**3 for x in range(1,11)]\n",
    "print(list7)\n",
    "list7 = [1+1 for x in range(1,11)]\n",
    "print(list7)"
   ]
  },
  {
   "cell_type": "code",
   "execution_count": 55,
   "metadata": {},
   "outputs": [
    {
     "name": "stdout",
     "output_type": "stream",
     "text": [
      "[[0, 0, 0, 0, 0, 0, 0, 0], [0, 0, 0, 0, 0, 0, 0, 0], [0, 0, 0, 0, 0, 0, 0, 0], [0, 0, 0, 0, 0, 0, 0, 0], [0, 0, 0, 0, 0, 0, 0, 0], [0, 0, 0, 0, 0, 0, 0, 0], [0, 0, 0, 0, 0, 0, 0, 0], [0, 0, 0, 0, 0, 0, 0, 0]]\n",
      "[[0, 0, 0, 0, 0, 0, 0, 0], [0, 0, 0, 0, 0, 0, 0, 0], [0, 0, 0, 0, 0, 0, 0, 0], [0, 0, 0, 0, 0, 0, 0, 0], [0, 0, 0, 0, 0, 0, 0, 0], [0, 0, 0, 0, 0, 0, 0, 0], [0, 0, 0, 0, 0, 0, 0, 0], [0, 0, 0, 0, 0, 0, 0, 0], [0, 0, 0, 0, 0, 0, 0, 0], [0, 0, 0, 0, 0, 0, 0, 0]]\n",
      "[0, 0, 0, 0, 0, 0, 0, 0]\n",
      "[0, 0, 0, 0, 0, 0, 0, 0]\n",
      "[0, 0, 0, 0, 0, 0, 0, 0]\n",
      "[0, 0, 0, 0, 0, 0, 0, 0]\n",
      "[0, 0, 0, 0, 0, 0, 0, 0]\n",
      "[0, 0, 0, 0, 0, 0, 0, 0]\n",
      "[0, 0, 0, 0, 0, 0, 0, 0]\n",
      "[0, 0, 0, 0, 0, 0, 0, 0]\n",
      "[0, 0, 0, 0, 0, 0, 0, 0]\n",
      "[0, 0, 0, 0, 0, 0, 0, 0]\n"
     ]
    }
   ],
   "source": [
    "matrix = [[0]*8]*10\n",
    "print([[0]*8]*8)\n",
    "print(matrix)\n",
    "for l in matrix:\n",
    "    print(l)"
   ]
  },
  {
   "cell_type": "code",
   "execution_count": 46,
   "metadata": {},
   "outputs": [
    {
     "name": "stdout",
     "output_type": "stream",
     "text": [
      "[[1, 2, 3, 4, 5, 6, 7, 8, 9], [2, 4, 6, 8, 10, 12, 14, 16, 18], [3, 6, 9, 12, 15, 18, 21, 24, 27], [4, 8, 12, 16, 20, 24, 28, 32, 36], [5, 10, 15, 20, 25, 30, 35, 40, 45], [6, 12, 18, 24, 30, 36, 42, 48, 54], [7, 14, 21, 28, 35, 42, 49, 56, 63], [8, 16, 24, 32, 40, 48, 56, 64, 72], [9, 18, 27, 36, 45, 54, 63, 72, 81]]\n",
      "[1, 2, 3, 4, 5, 6, 7, 8, 9]\n",
      "[2, 4, 6, 8, 10, 12, 14, 16, 18]\n",
      "[3, 6, 9, 12, 15, 18, 21, 24, 27]\n",
      "[4, 8, 12, 16, 20, 24, 28, 32, 36]\n",
      "[5, 10, 15, 20, 25, 30, 35, 40, 45]\n",
      "[6, 12, 18, 24, 30, 36, 42, 48, 54]\n",
      "[7, 14, 21, 28, 35, 42, 49, 56, 63]\n",
      "[8, 16, 24, 32, 40, 48, 56, 64, 72]\n",
      "[9, 18, 27, 36, 45, 54, 63, 72, 81]\n"
     ]
    }
   ],
   "source": [
    "matrix = [[x*y for x in range(1,10)]for y in range(1,10)]\n",
    "#[x * y for x in range(1,10)]for y in range(1,10)\n",
    "#[x * y for x in range(1,10)]\n",
    "#for x in range(1,10)\n",
    "print(matrix)\n",
    "for l in matrix:\n",
    "    print(l)"
   ]
  },
  {
   "cell_type": "code",
   "execution_count": 49,
   "metadata": {},
   "outputs": [
    {
     "name": "stdout",
     "output_type": "stream",
     "text": [
      "[9, 36, 81]\n"
     ]
    }
   ],
   "source": [
    "values = [x*x for x in range(1,10) if x % 3 == 0]\n",
    "#[x*x for x in range(1,10)]\n",
    "#if x % 3 == 0\n",
    "print(values)"
   ]
  },
  {
   "cell_type": "code",
   "execution_count": 51,
   "metadata": {},
   "outputs": [
    {
     "name": "stdout",
     "output_type": "stream",
     "text": [
      "7\n",
      "a\n",
      "b\n",
      "c\n",
      "d\n",
      "e\n",
      "f\n",
      "g\n",
      "['a0', 'a1', 'a2', 'a3', 'b0', 'b1', 'b2', 'b3', 'c0', 'c1', 'c2', 'c3']\n"
     ]
    }
   ],
   "source": [
    "s = \"abcdefg\"\n",
    "print(len(s))\n",
    "\n",
    "for c in s:\n",
    "    print(c)\n",
    "\n",
    "values = [x+y for x in 'abc' for y in '0123']\n",
    "print(values)"
   ]
  },
  {
   "cell_type": "code",
   "execution_count": 68,
   "metadata": {},
   "outputs": [
    {
     "name": "stdout",
     "output_type": "stream",
     "text": [
      "['Python', 'Ruby', 'Scale', 'c', 'c++', 'pascal']\n"
     ]
    }
   ],
   "source": [
    "lans = [\"c\",\"c++\",\"pascal\"]\n",
    "#[\"Python\",\"Ruby\",\"Scale\"] + lans\n",
    "print([\"Python\",\"Ruby\",\"Scale\"] + lans)"
   ]
  },
  {
   "cell_type": "code",
   "execution_count": null,
   "metadata": {},
   "outputs": [],
   "source": []
  },
  {
   "cell_type": "code",
   "execution_count": 53,
   "metadata": {},
   "outputs": [
    {
     "name": "stdout",
     "output_type": "stream",
     "text": [
      "[1, 2, 3, 1, 2, 3, 1, 2, 3]\n",
      "[0, 0]\n"
     ]
    }
   ],
   "source": [
    "print([1,2,3] * 3)\n",
    "print([0]*2)"
   ]
  },
  {
   "cell_type": "code",
   "execution_count": 72,
   "metadata": {},
   "outputs": [
    {
     "name": "stdout",
     "output_type": "stream",
     "text": [
      "pythonpythonpythonpythonpython\n"
     ]
    }
   ],
   "source": [
    "print('python'*5)"
   ]
  },
  {
   "cell_type": "code",
   "execution_count": 73,
   "metadata": {},
   "outputs": [
    {
     "name": "stdout",
     "output_type": "stream",
     "text": [
      "3\n"
     ]
    }
   ],
   "source": [
    "score = [23,24,35,74,56,56,47,35,66,66,66]\n",
    "print(score.count(66))"
   ]
  },
  {
   "cell_type": "code",
   "execution_count": 74,
   "metadata": {},
   "outputs": [
    {
     "name": "stdout",
     "output_type": "stream",
     "text": [
      "[]\n"
     ]
    }
   ],
   "source": [
    "score = [23,24,35,74,56,56,47,35,66,66,66]\n",
    "score.clear()\n",
    "print(score)"
   ]
  },
  {
   "cell_type": "code",
   "execution_count": 75,
   "metadata": {},
   "outputs": [
    {
     "name": "stdout",
     "output_type": "stream",
     "text": [
      "[23, 24, 35, 74, 56, 56, 47, 35, 66, 66, 66, 24]\n"
     ]
    }
   ],
   "source": [
    "score = [23,24,35,74,56,56,47,35,66,66,66]\n",
    "score.append(24)\n",
    "print(score)"
   ]
  },
  {
   "cell_type": "code",
   "execution_count": 59,
   "metadata": {},
   "outputs": [
    {
     "name": "stdout",
     "output_type": "stream",
     "text": [
      "[23, 24, 35, 74, 56, 56, 47, 35, 66, 66, 66, 4396, 7777]\n"
     ]
    }
   ],
   "source": [
    "score = [23,24,35,74,56,56,47,35,66,66,66]\n",
    "# score += [4396,7777]\n",
    "score.extend([4396,7777])\n",
    "print(score)"
   ]
  },
  {
   "cell_type": "code",
   "execution_count": 79,
   "metadata": {},
   "outputs": [
    {
     "name": "stdout",
     "output_type": "stream",
     "text": [
      "8\n"
     ]
    }
   ],
   "source": [
    "score = [23,24,35,74,56,56,47,35,66,66,66]\n",
    "print(score.index(66))"
   ]
  },
  {
   "cell_type": "code",
   "execution_count": 81,
   "metadata": {},
   "outputs": [
    {
     "name": "stdout",
     "output_type": "stream",
     "text": [
      "[23, 24, 35, 74, 56, 56, 47, 35, 66, 66]\n"
     ]
    }
   ],
   "source": [
    "score = [23,24,35,74,56,56,47,35,66,66,66]\n",
    "score.remove(66)\n",
    "print(score)"
   ]
  },
  {
   "cell_type": "code",
   "execution_count": 60,
   "metadata": {},
   "outputs": [
    {
     "name": "stdout",
     "output_type": "stream",
     "text": [
      "[0, 777, 0]\n",
      "[0, 777, 0]\n"
     ]
    }
   ],
   "source": [
    "a = [0,0,0]\n",
    "b = a\n",
    "b[1] = 777\n",
    "print(a)\n",
    "print(b)"
   ]
  },
  {
   "cell_type": "code",
   "execution_count": 86,
   "metadata": {},
   "outputs": [
    {
     "name": "stdout",
     "output_type": "stream",
     "text": [
      "[7777, 2, 3]\n",
      "[7777, 2, 3]\n",
      "a id: 2637468895168\n",
      "b id: 2637468895168\n"
     ]
    }
   ],
   "source": [
    "#重点 copy\n",
    "a = [1,2,3]\n",
    "b = a\n",
    "b[0] = 7777\n",
    "print(a)\n",
    "print(b)\n",
    "print(\"a id:\",id(a))\n",
    "print(\"b id:\",id(b))"
   ]
  },
  {
   "cell_type": "code",
   "execution_count": 62,
   "metadata": {},
   "outputs": [
    {
     "name": "stdout",
     "output_type": "stream",
     "text": [
      "[1, 2, 3]\n",
      "[7777, 2, 3]\n",
      "a id: 2340475407168\n",
      "b id: 2340475491648\n"
     ]
    }
   ],
   "source": [
    "a = [1,2,3]\n",
    "b = a.copy() #copy too\n",
    "b[0] = 7777\n",
    "print(a)\n",
    "print(b)\n",
    "print(\"a id:\",id(a))\n",
    "print(\"b id:\",id(b))"
   ]
  },
  {
   "cell_type": "code",
   "execution_count": 94,
   "metadata": {},
   "outputs": [
    {
     "name": "stdout",
     "output_type": "stream",
     "text": [
      "[1, 2, 3, 4, 5, 6, 7, 8, 9]\n",
      "[4, 5, 6, 7, 8, 9]\n",
      "[4, 5, 6, 7, 8, 9]\n",
      "[1, 2, 3, 4, 5, 6, 7, 8, 9]\n",
      "[4, 5, 6, 7, 8]\n",
      "[2, 4, 6, 8]\n",
      "[9, 7, 5, 3]\n",
      "[8]\n",
      "[1, 2, 3]\n",
      "[7777, 2, 3]\n",
      "a id: 2637468910208\n",
      "b id: 2637468912192\n",
      "[3, 2, 1]\n",
      "345\n",
      "9876543210\n"
     ]
    }
   ],
   "source": [
    "#重点 切片\n",
    "numbers = [x for x in range(1,10)]\n",
    "print(numbers)\n",
    "print(numbers[3:9])\n",
    "print(numbers[3:])\n",
    "print(numbers[:9])\n",
    "print(numbers[-6:-1])\n",
    "print(numbers[1:9:2])\n",
    "print(numbers[-1:1:-2])\n",
    "print(numbers[7::2])\n",
    "#妙用copy\n",
    "a = [1,2,3]\n",
    "b = a[:]\n",
    "b[0] = 7777\n",
    "print(a)\n",
    "print(b)\n",
    "print(\"a id:\",id(a))\n",
    "print(\"b id:\",id(b))\n",
    "#妙用reverse\n",
    "a = [1,2,3]\n",
    "rev_a = a[::-1]\n",
    "print(rev_a)\n",
    "#妙用String\n",
    "numbers = '0123456789'\n",
    "print(numbers[3:6])\n",
    "print(numbers[::-1])\n"
   ]
  },
  {
   "cell_type": "code",
   "execution_count": null,
   "metadata": {},
   "outputs": [],
   "source": []
  }
 ],
 "metadata": {
  "interpreter": {
   "hash": "063997466fb8d14a66bdbd4ad5df2a78771035d795576952896bfbd2277157cc"
  },
  "kernelspec": {
   "display_name": "Python 3.8.10 64-bit (windows store)",
   "language": "python",
   "name": "python3"
  },
  "language_info": {
   "codemirror_mode": {
    "name": "ipython",
    "version": 3
   },
   "file_extension": ".py",
   "mimetype": "text/x-python",
   "name": "python",
   "nbconvert_exporter": "python",
   "pygments_lexer": "ipython3",
   "version": "3.8.10"
  },
  "orig_nbformat": 4
 },
 "nbformat": 4,
 "nbformat_minor": 2
}
