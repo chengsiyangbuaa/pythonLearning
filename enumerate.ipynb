{
 "cells": [
  {
   "cell_type": "code",
   "execution_count": 2,
   "metadata": {},
   "outputs": [
    {
     "name": "stdout",
     "output_type": "stream",
     "text": [
      "[(0, 'xiao qie zi'), (1, '617'), (2, '681')]\n",
      "index: 0 name: xiao qie zi\n",
      "index: 1 name: 617\n",
      "index: 2 name: 681\n"
     ]
    }
   ],
   "source": [
    "names = ['xiao qie zi',\"617\",\"681\"]\n",
    "print(list(enumerate(names)))\n",
    "for index, name in enumerate(names):\n",
    "    print(\"index:\",index,\"name:\",name)"
   ]
  },
  {
   "cell_type": "code",
   "execution_count": null,
   "metadata": {},
   "outputs": [],
   "source": []
  }
 ],
 "metadata": {
  "interpreter": {
   "hash": "063997466fb8d14a66bdbd4ad5df2a78771035d795576952896bfbd2277157cc"
  },
  "kernelspec": {
   "display_name": "Python 3.8.10 64-bit (windows store)",
   "language": "python",
   "name": "python3"
  },
  "language_info": {
   "codemirror_mode": {
    "name": "ipython",
    "version": 3
   },
   "file_extension": ".py",
   "mimetype": "text/x-python",
   "name": "python",
   "nbconvert_exporter": "python",
   "pygments_lexer": "ipython3",
   "version": "3.8.10"
  },
  "orig_nbformat": 4
 },
 "nbformat": 4,
 "nbformat_minor": 2
}
