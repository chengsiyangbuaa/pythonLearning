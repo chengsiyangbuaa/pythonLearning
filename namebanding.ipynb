{
 "cells": [
  {
   "cell_type": "code",
   "execution_count": null,
   "metadata": {},
   "outputs": [],
   "source": [
    "# 名字绑定\n"
   ]
  },
  {
   "cell_type": "code",
   "execution_count": 1,
   "metadata": {},
   "outputs": [
    {
     "name": "stdout",
     "output_type": "stream",
     "text": [
      "id 140711531452176\n",
      "id 140711531452176\n"
     ]
    }
   ],
   "source": [
    "a = 1\n",
    "print(\"id\",id(a))\n",
    "b = 1\n",
    "print(\"id\",id(b))"
   ]
  },
  {
   "cell_type": "code",
   "execution_count": 3,
   "metadata": {},
   "outputs": [
    {
     "name": "stdout",
     "output_type": "stream",
     "text": [
      "id 140711531452240\n",
      "id 140711531452240\n"
     ]
    }
   ],
   "source": [
    "a = 3\n",
    "b = int(3**2/3)\n",
    "print(\"id\",id(a))\n",
    "print(\"id\",id(b))\n"
   ]
  },
  {
   "cell_type": "code",
   "execution_count": 5,
   "metadata": {},
   "outputs": [
    {
     "name": "stdout",
     "output_type": "stream",
     "text": [
      "id 140711531452240\n",
      "id 1715868064496\n",
      "a==b\n",
      "a is not b\n"
     ]
    }
   ],
   "source": [
    "a = 3\n",
    "b = 3.0\n",
    "print(\"id\",id(a))\n",
    "print(\"id\",id(b))\n",
    "if a == b:\n",
    "    print('a==b')\n",
    "\n",
    "if a is b:\n",
    "    print('a is b')\n",
    "else:\n",
    "    print(\"a is not b\")"
   ]
  },
  {
   "cell_type": "code",
   "execution_count": 7,
   "metadata": {},
   "outputs": [
    {
     "name": "stdout",
     "output_type": "stream",
     "text": [
      "id 1715868320128\n",
      "id 1715868320128\n"
     ]
    }
   ],
   "source": [
    "#copy!\n",
    "values = (3,2,1)\n",
    "valueCopy1 = values\n",
    "print(\"id\",id(values))\n",
    "print(\"id\",id(valueCopy1))\n"
   ]
  },
  {
   "cell_type": "code",
   "execution_count": 8,
   "metadata": {},
   "outputs": [
    {
     "name": "stdout",
     "output_type": "stream",
     "text": [
      "id 1715868321408\n",
      "id 1715868337856\n"
     ]
    }
   ],
   "source": [
    "#copy!\n",
    "values = (3,2,1)\n",
    "valueCopy1 = values\n",
    "valueCopy1 = (1,2,3)\n",
    "print(\"id\",id(values))\n",
    "print(\"id\",id(valueCopy1))"
   ]
  },
  {
   "cell_type": "code",
   "execution_count": 10,
   "metadata": {},
   "outputs": [
    {
     "name": "stdout",
     "output_type": "stream",
     "text": [
      "id 1715868088640\n",
      "id 1715868088640\n",
      "id 1715868088640\n",
      "id 1715881399488\n"
     ]
    }
   ],
   "source": [
    "#copy!\n",
    "values = [3,2,1]\n",
    "valueCopy1 = values\n",
    "print(\"id\",id(values))\n",
    "print(\"id\",id(valueCopy1))\n",
    "valueCopy1 = [1,2,3]\n",
    "print(\"id\",id(values))\n",
    "print(\"id\",id(valueCopy1))"
   ]
  },
  {
   "cell_type": "code",
   "execution_count": 14,
   "metadata": {},
   "outputs": [
    {
     "name": "stdout",
     "output_type": "stream",
     "text": [
      "id 1715868381568\n",
      "id 1715868381568\n",
      "id 1715868381568\n",
      "id 1715868381568\n",
      "[4, 2, 1]\n",
      "[4, 2, 1]\n"
     ]
    }
   ],
   "source": [
    "#copy!\n",
    "values = [3,2,1]\n",
    "valueCopy1 = values\n",
    "print(\"id\",id(values))\n",
    "print(\"id\",id(valueCopy1))\n",
    "valueCopy1[0] = 4\n",
    "print(\"id\",id(values))\n",
    "print(\"id\",id(valueCopy1))\n",
    "print(values)\n",
    "print(valueCopy1)"
   ]
  },
  {
   "cell_type": "code",
   "execution_count": 15,
   "metadata": {},
   "outputs": [
    {
     "name": "stdout",
     "output_type": "stream",
     "text": [
      "id 1715868393344\n",
      "id 1715868393344\n",
      "id 1715868394304\n",
      "id 1715868393088\n",
      "id 1715868394048\n",
      "id 1715868395200\n",
      "values : [3, 2, 1]\n",
      "valuesCopy1 : [3, 2, 1]\n",
      "valuesCopy2 : [3, 2, 1]\n",
      "valuesCopy3 : [3, 2, 1]\n",
      "valuesCopy4 : [3, 2, 1]\n",
      "valuesCopy5 : [3, 2, 1]\n"
     ]
    }
   ],
   "source": [
    "#copy!\n",
    "import copy\n",
    "values = [3,2,1,[1,2,3]]\n",
    "valuesCopy1 = values\n",
    "valuesCopy2 = values.copy()\n",
    "valuesCopy3 = values[:]\n",
    "valuesCopy4 = copy.copy(values)\n",
    "valuesCopy5 = copy.deepcopy(values)\n",
    "\n",
    "print(\"id\",id(values))\n",
    "print(\"id\",id(valuesCopy1))\n",
    "print(\"id\",id(valuesCopy2))\n",
    "print(\"id\",id(valuesCopy3))\n",
    "print(\"id\",id(valuesCopy4))\n",
    "print(\"id\",id(valuesCopy5))\n",
    "\n",
    "print(\"values :\",values)\n",
    "print(\"valuesCopy1 :\",valuesCopy1)\n",
    "print(\"valuesCopy2 :\",valuesCopy2)\n",
    "print(\"valuesCopy3 :\",valuesCopy3)\n",
    "print(\"valuesCopy4 :\",valuesCopy4)\n",
    "print(\"valuesCopy5 :\",valuesCopy5)\n"
   ]
  },
  {
   "cell_type": "code",
   "execution_count": 19,
   "metadata": {},
   "outputs": [
    {
     "name": "stdout",
     "output_type": "stream",
     "text": [
      "values : [3, 2, 1, [1, 77777777777, 3]]\n",
      "valuesCopy1 : [3, 2, 1, [1, 77777777777, 3]]\n"
     ]
    }
   ],
   "source": [
    "values = [3,2,1,[1,2,3]]\n",
    "valuesCopy1 = values\n",
    "valuesCopy1[3][1] = 77777777777\n",
    "print(\"values :\",values)\n",
    "print(\"valuesCopy1 :\",valuesCopy1)"
   ]
  },
  {
   "cell_type": "code",
   "execution_count": 26,
   "metadata": {},
   "outputs": [
    {
     "name": "stdout",
     "output_type": "stream",
     "text": [
      "values : [3, 2, 1, [1, 77777777777, 3]]\n",
      "valuesCopy2 : [3, 2, 1, [1, 77777777777, 3]]\n",
      "1715882493184\n",
      "1715882493184\n"
     ]
    }
   ],
   "source": [
    "values = [3,2,1,[1,2,3]]\n",
    "valuesCopy2 = values.copy()\n",
    "valuesCopy2[3][1] = 77777777777\n",
    "print(\"values :\",values)\n",
    "print(\"valuesCopy2 :\",valuesCopy2)\n",
    "print(id(values[3]))\n",
    "print(id(valuesCopy2[3]))"
   ]
  },
  {
   "cell_type": "code",
   "execution_count": 20,
   "metadata": {},
   "outputs": [
    {
     "name": "stdout",
     "output_type": "stream",
     "text": [
      "values : [3, 2, 1, [1, 77777777777, 3]]\n",
      "valuesCopy3 : [3, 2, 1, [1, 77777777777, 3]]\n"
     ]
    }
   ],
   "source": [
    "values = [3,2,1,[1,2,3]]\n",
    "valuesCopy3 = values[:]\n",
    "valuesCopy3[3][1] = 77777777777\n",
    "print(\"values :\",values)\n",
    "print(\"valuesCopy3 :\",valuesCopy3)"
   ]
  },
  {
   "cell_type": "code",
   "execution_count": 21,
   "metadata": {},
   "outputs": [
    {
     "name": "stdout",
     "output_type": "stream",
     "text": [
      "values : [3, 2, 1, [1, 77777777777, 3]]\n",
      "valuesCopy4 : [3, 2, 1, [1, 77777777777, 3]]\n"
     ]
    }
   ],
   "source": [
    "values = [3,2,1,[1,2,3]]\n",
    "valuesCopy4 = copy.copy(values)\n",
    "valuesCopy4[3][1] = 77777777777\n",
    "print(\"values :\",values)\n",
    "print(\"valuesCopy4 :\",valuesCopy4)"
   ]
  },
  {
   "cell_type": "code",
   "execution_count": 24,
   "metadata": {},
   "outputs": [
    {
     "name": "stdout",
     "output_type": "stream",
     "text": [
      "values : [3, 2, 1, [1, 2, 3]]\n",
      "valuesCopy5 : [3, 2, 1, [1, 77777777777, 3]]\n",
      "1715881401984\n",
      "1715881426304\n"
     ]
    }
   ],
   "source": [
    "values = [3,2,1,[1,2,3]]\n",
    "valuesCopy5 = copy.deepcopy(values)\n",
    "valuesCopy5[3][1] = 77777777777\n",
    "print(\"values :\",values)\n",
    "print(\"valuesCopy5 :\",valuesCopy5)\n",
    "print(id(values[3]))\n",
    "print(id(valuesCopy5[3]))"
   ]
  },
  {
   "cell_type": "code",
   "execution_count": null,
   "metadata": {},
   "outputs": [],
   "source": []
  }
 ],
 "metadata": {
  "interpreter": {
   "hash": "063997466fb8d14a66bdbd4ad5df2a78771035d795576952896bfbd2277157cc"
  },
  "kernelspec": {
   "display_name": "Python 3.8.10 64-bit (windows store)",
   "language": "python",
   "name": "python3"
  },
  "language_info": {
   "codemirror_mode": {
    "name": "ipython",
    "version": 3
   },
   "file_extension": ".py",
   "mimetype": "text/x-python",
   "name": "python",
   "nbconvert_exporter": "python",
   "pygments_lexer": "ipython3",
   "version": "3.8.10"
  },
  "orig_nbformat": 4
 },
 "nbformat": 4,
 "nbformat_minor": 2
}
