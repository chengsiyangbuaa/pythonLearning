{
 "cells": [
  {
   "cell_type": "code",
   "execution_count": 3,
   "metadata": {},
   "outputs": [
    {
     "name": "stdout",
     "output_type": "stream",
     "text": [
      "99\n",
      "12\n"
     ]
    }
   ],
   "source": [
    "#复习\n",
    "#学过的数据类型：int,float,str,list\n",
    "a = 99\n",
    "b = a\n",
    "b = 12\n",
    "#python 里面的数据类型，可以分为两种\n",
    "#一种是不可修改的类型：str,int,float,tuple\n",
    "#一种是可修改类型：list,set,dict\n",
    "#对于不可修改类型，a = ”abc“，内存空间生成一块空间，存放”abc“，然后创建一个名字a\n",
    "# 与这个空间绑定\n",
    "# b = a ，这句话的意思是，b这个名字，与a所绑定的数据，进行绑定\n",
    "# b = \"efg\" , 因为，字符串是不可修改类型，所以”abc“，不会被改变。所以内存空间会\n",
    "# 生成一个新的空间存放”efg“，b与其绑定\n",
    "# print(a) ”abc“\n",
    "# print(b) ”efg“\n",
    "\n",
    "print(a)\n",
    "print(b)"
   ]
  },
  {
   "cell_type": "code",
   "execution_count": 2,
   "metadata": {},
   "outputs": [
    {
     "name": "stdout",
     "output_type": "stream",
     "text": [
      "[1, 99, 3]\n",
      "[1, 99, 3]\n"
     ]
    }
   ],
   "source": [
    "a = [1,2,3]\n",
    "b = a\n",
    "b[1] = 99\n",
    "print(a)\n",
    "print(b)"
   ]
  },
  {
   "cell_type": "code",
   "execution_count": 5,
   "metadata": {},
   "outputs": [
    {
     "name": "stdout",
     "output_type": "stream",
     "text": [
      "[1, 2, 3, 4]\n",
      "[1, 2, 3, 4]\n"
     ]
    }
   ],
   "source": [
    "a = [1,2,3]\n",
    "b = a\n",
    "b.append(4)\n",
    "print(a)\n",
    "print(b)"
   ]
  },
  {
   "cell_type": "code",
   "execution_count": 4,
   "metadata": {},
   "outputs": [
    {
     "name": "stdout",
     "output_type": "stream",
     "text": [
      "[1, 2, 3]\n",
      "[4, 5, 6]\n"
     ]
    }
   ],
   "source": [
    "a = [1,2,3]# 要在内存空间里面，生成一个空间，存放[1,2,3]\n",
    "b = a\n",
    "b = [4,5,6] # 要在内存空间里面，生成一个空间，存放[4,5,6]\n",
    "print(a)\n",
    "print(b)"
   ]
  },
  {
   "cell_type": "code",
   "execution_count": 1,
   "metadata": {},
   "outputs": [],
   "source": [
    "#元组"
   ]
  },
  {
   "cell_type": "code",
   "execution_count": 3,
   "metadata": {},
   "outputs": [
    {
     "name": "stdout",
     "output_type": "stream",
     "text": [
      "('xiaoqiezi', '617', 617) <class 'tuple'>\n"
     ]
    }
   ],
   "source": [
    "students = ('xiaoqiezi','617',617) #容器 元组\n",
    "print(students,type(students))"
   ]
  },
  {
   "cell_type": "code",
   "execution_count": 7,
   "metadata": {},
   "outputs": [
    {
     "name": "stdout",
     "output_type": "stream",
     "text": [
      "(3,) <class 'tuple'>\n"
     ]
    }
   ],
   "source": [
    "i = (3,)\n",
    "print(i,type(i))"
   ]
  },
  {
   "cell_type": "code",
   "execution_count": 10,
   "metadata": {},
   "outputs": [
    {
     "name": "stdout",
     "output_type": "stream",
     "text": [
      "('xiaoqiezi', '617')\n",
      "1\n",
      "True\n",
      "5\n",
      "(1, 2, 2, 3, 4)\n",
      "(1, 2, 1, 2, 1, 2, 1, 2, 1, 2)\n"
     ]
    }
   ],
   "source": [
    "students = ('xiaoqiezi','617',617)\n",
    "print(students[0:2])\n",
    "print(students.count(617))\n",
    "print('xiaoqiezi' in students)\n",
    "print(max(1,2,3,4,5))\n",
    "print((1,2)+(2,3)+(4,))\n",
    "print((1,2)*5)"
   ]
  },
  {
   "cell_type": "code",
   "execution_count": 12,
   "metadata": {},
   "outputs": [
    {
     "ename": "TypeError",
     "evalue": "'tuple' object does not support item assignment",
     "output_type": "error",
     "traceback": [
      "\u001b[1;31m---------------------------------------------------------------------------\u001b[0m",
      "\u001b[1;31mTypeError\u001b[0m                                 Traceback (most recent call last)",
      "\u001b[1;32m~\\AppData\\Local\\Temp/ipykernel_41308/4240669822.py\u001b[0m in \u001b[0;36m<module>\u001b[1;34m\u001b[0m\n\u001b[0;32m      1\u001b[0m \u001b[1;31m#只读的列表\u001b[0m\u001b[1;33m\u001b[0m\u001b[1;33m\u001b[0m\u001b[1;33m\u001b[0m\u001b[0m\n\u001b[0;32m      2\u001b[0m \u001b[0mstudents\u001b[0m \u001b[1;33m=\u001b[0m \u001b[1;33m(\u001b[0m\u001b[1;34m'xiaoqiezi'\u001b[0m\u001b[1;33m,\u001b[0m\u001b[1;34m'617'\u001b[0m\u001b[1;33m,\u001b[0m\u001b[1;36m617\u001b[0m\u001b[1;33m)\u001b[0m\u001b[1;33m\u001b[0m\u001b[1;33m\u001b[0m\u001b[0m\n\u001b[1;32m----> 3\u001b[1;33m \u001b[0mstudents\u001b[0m\u001b[1;33m[\u001b[0m\u001b[1;36m2\u001b[0m\u001b[1;33m]\u001b[0m \u001b[1;33m=\u001b[0m \u001b[1;36m681\u001b[0m\u001b[1;33m\u001b[0m\u001b[1;33m\u001b[0m\u001b[0m\n\u001b[0m",
      "\u001b[1;31mTypeError\u001b[0m: 'tuple' object does not support item assignment"
     ]
    }
   ],
   "source": [
    "#只读的列表 不可修改\n",
    "students = ('xiaoqiezi','617',617)\n",
    "students[2] = 681"
   ]
  },
  {
   "cell_type": "code",
   "execution_count": 8,
   "metadata": {},
   "outputs": [],
   "source": [
    "students = ('xiaoqiezi','617',617)\n",
    "students = (1,2,3)"
   ]
  }
 ],
 "metadata": {
  "interpreter": {
   "hash": "063997466fb8d14a66bdbd4ad5df2a78771035d795576952896bfbd2277157cc"
  },
  "kernelspec": {
   "display_name": "Python 3.8.10 64-bit (windows store)",
   "language": "python",
   "name": "python3"
  },
  "language_info": {
   "codemirror_mode": {
    "name": "ipython",
    "version": 3
   },
   "file_extension": ".py",
   "mimetype": "text/x-python",
   "name": "python",
   "nbconvert_exporter": "python",
   "pygments_lexer": "ipython3",
   "version": "3.8.10"
  },
  "orig_nbformat": 4
 },
 "nbformat": 4,
 "nbformat_minor": 2
}
