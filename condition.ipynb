{
 "cells": [
  {
   "cell_type": "code",
   "execution_count": 1,
   "metadata": {},
   "outputs": [],
   "source": [
    "#条件"
   ]
  },
  {
   "cell_type": "code",
   "execution_count": 2,
   "metadata": {},
   "outputs": [
    {
     "name": "stdout",
     "output_type": "stream",
     "text": [
      "False\n"
     ]
    }
   ],
   "source": [
    "print(bool(None))"
   ]
  },
  {
   "cell_type": "code",
   "execution_count": 3,
   "metadata": {},
   "outputs": [
    {
     "name": "stdout",
     "output_type": "stream",
     "text": [
      "a is None or Zero\n"
     ]
    }
   ],
   "source": [
    "a = None\n",
    "if a:\n",
    "    print(\"a is not None or Zero\")\n",
    "else:\n",
    "    print(\"a is None or Zero\")"
   ]
  },
  {
   "cell_type": "code",
   "execution_count": 4,
   "metadata": {},
   "outputs": [
    {
     "name": "stdout",
     "output_type": "stream",
     "text": [
      "a is None or Zero\n"
     ]
    }
   ],
   "source": [
    "a = 0\n",
    "if a:\n",
    "    print(\"a is not None or Zero\")\n",
    "else:\n",
    "    print(\"a is None or Zero\")"
   ]
  },
  {
   "cell_type": "code",
   "execution_count": 5,
   "metadata": {},
   "outputs": [
    {
     "name": "stdout",
     "output_type": "stream",
     "text": [
      "a is not None or Zero\n"
     ]
    }
   ],
   "source": [
    "a = 1\n",
    "if a:\n",
    "    print(\"a is not None or Zero\")\n",
    "else:\n",
    "    print(\"a is None or Zero\")"
   ]
  },
  {
   "cell_type": "code",
   "execution_count": 6,
   "metadata": {},
   "outputs": [
    {
     "name": "stdout",
     "output_type": "stream",
     "text": [
      "a is None or Zero\n"
     ]
    }
   ],
   "source": [
    "a = ()\n",
    "if a:\n",
    "    print(\"a is not None or Zero\")\n",
    "else:\n",
    "    print(\"a is None or Zero\")"
   ]
  },
  {
   "cell_type": "code",
   "execution_count": 7,
   "metadata": {},
   "outputs": [
    {
     "name": "stdout",
     "output_type": "stream",
     "text": [
      "a is not None or Zero\n"
     ]
    }
   ],
   "source": [
    "a = (1,)\n",
    "if a:\n",
    "    print(\"a is not None or Zero\")\n",
    "else:\n",
    "    print(\"a is None or Zero\")"
   ]
  },
  {
   "cell_type": "code",
   "execution_count": 8,
   "metadata": {},
   "outputs": [
    {
     "name": "stdout",
     "output_type": "stream",
     "text": [
      "a is None or Zero\n"
     ]
    }
   ],
   "source": [
    "a = {}\n",
    "if a:\n",
    "    print(\"a is not None or Zero\")\n",
    "else:\n",
    "    print(\"a is None or Zero\")"
   ]
  },
  {
   "cell_type": "code",
   "execution_count": 9,
   "metadata": {},
   "outputs": [
    {
     "name": "stdout",
     "output_type": "stream",
     "text": [
      "a is not None or Zero\n"
     ]
    }
   ],
   "source": [
    "a = {\"xiaoqiezi\":4396}\n",
    "if a:\n",
    "    print(\"a is not None or Zero\")\n",
    "else:\n",
    "    print(\"a is None or Zero\")"
   ]
  },
  {
   "cell_type": "code",
   "execution_count": 10,
   "metadata": {},
   "outputs": [
    {
     "name": "stdout",
     "output_type": "stream",
     "text": [
      "ma hua teng is SB\n"
     ]
    }
   ],
   "source": [
    "iAge = 22\n",
    "if iAge < 16:\n",
    "    print(\"you can play two hours computer games a weak\")\n",
    "else:\n",
    "    print(\"ma hua teng is SB\")"
   ]
  },
  {
   "cell_type": "code",
   "execution_count": 12,
   "metadata": {},
   "outputs": [
    {
     "name": "stdout",
     "output_type": "stream",
     "text": [
      "you are not 00 after boy\n"
     ]
    }
   ],
   "source": [
    "iAge = 22\n",
    "sGender = 'male'\n",
    "if sGender == \"male\":\n",
    "    if iAge > 22:\n",
    "        print(\"you're 00 after boy\")\n",
    "    else:\n",
    "        print(\"you are not 00 after boy\")\n",
    "elif sGender == \"female\":\n",
    "    if iAge > 22:\n",
    "        print(\"you're 00 after boy\")\n",
    "    else:\n",
    "        print(\"you are not 00 after boy\")\n",
    "else:\n",
    "    print(\"are you kidding?\")"
   ]
  },
  {
   "cell_type": "code",
   "execution_count": 15,
   "metadata": {},
   "outputs": [
    {
     "name": "stdout",
     "output_type": "stream",
     "text": [
      "xiao qie zi\n"
     ]
    }
   ],
   "source": [
    "print(\"xiao qie zi\" or \"617\")"
   ]
  },
  {
   "cell_type": "code",
   "execution_count": 16,
   "metadata": {},
   "outputs": [
    {
     "name": "stdout",
     "output_type": "stream",
     "text": [
      "617\n"
     ]
    }
   ],
   "source": [
    "print(\"xiao qie zi\" and \"617\")"
   ]
  },
  {
   "cell_type": "code",
   "execution_count": 17,
   "metadata": {},
   "outputs": [
    {
     "name": "stdout",
     "output_type": "stream",
     "text": [
      "unknown\n"
     ]
    }
   ],
   "source": [
    "sName = input(\"what's your name?\") or \"unknown\"\n",
    "print(sName)"
   ]
  },
  {
   "cell_type": "code",
   "execution_count": null,
   "metadata": {},
   "outputs": [],
   "source": []
  }
 ],
 "metadata": {
  "interpreter": {
   "hash": "063997466fb8d14a66bdbd4ad5df2a78771035d795576952896bfbd2277157cc"
  },
  "kernelspec": {
   "display_name": "Python 3.8.10 64-bit (windows store)",
   "language": "python",
   "name": "python3"
  },
  "language_info": {
   "codemirror_mode": {
    "name": "ipython",
    "version": 3
   },
   "file_extension": ".py",
   "mimetype": "text/x-python",
   "name": "python",
   "nbconvert_exporter": "python",
   "pygments_lexer": "ipython3",
   "version": "3.8.10"
  },
  "orig_nbformat": 4
 },
 "nbformat": 4,
 "nbformat_minor": 2
}
