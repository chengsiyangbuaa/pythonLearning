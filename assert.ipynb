{
 "cells": [
  {
   "cell_type": "code",
   "execution_count": 1,
   "metadata": {},
   "outputs": [],
   "source": [
    "#断言"
   ]
  },
  {
   "cell_type": "code",
   "execution_count": 3,
   "metadata": {},
   "outputs": [
    {
     "name": "stdout",
     "output_type": "stream",
     "text": [
      "77.0\n"
     ]
    }
   ],
   "source": [
    "def computerAverageScore(scores):\n",
    "    assert len(scores) > 0\n",
    "    assert max(scores) <= 100\n",
    "    assert min(scores) >= 0\n",
    "    return sum(scores)/len(scores)\n",
    "scores = [55,66,77,88,99]\n",
    "print(computerAverageScore(scores))"
   ]
  },
  {
   "cell_type": "code",
   "execution_count": null,
   "metadata": {},
   "outputs": [],
   "source": [
    "def computerAverageScore(scores):\n",
    "    #assert len(scores) > 0\n",
    "    assert max(scores) <= 100\n",
    "    assert min(scores) >= 0\n",
    "    return sum(scores)/len(scores)\n",
    "scores = []\n",
    "print(computerAverageScore(scores))"
   ]
  }
 ],
 "metadata": {
  "interpreter": {
   "hash": "063997466fb8d14a66bdbd4ad5df2a78771035d795576952896bfbd2277157cc"
  },
  "kernelspec": {
   "display_name": "Python 3.8.10 64-bit (windows store)",
   "language": "python",
   "name": "python3"
  },
  "language_info": {
   "codemirror_mode": {
    "name": "ipython",
    "version": 3
   },
   "file_extension": ".py",
   "mimetype": "text/x-python",
   "name": "python",
   "nbconvert_exporter": "python",
   "pygments_lexer": "ipython3",
   "version": "3.8.10"
  },
  "orig_nbformat": 4
 },
 "nbformat": 4,
 "nbformat_minor": 2
}
